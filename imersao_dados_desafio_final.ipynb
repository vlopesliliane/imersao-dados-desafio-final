{
  "nbformat": 4,
  "nbformat_minor": 0,
  "metadata": {
    "accelerator": "GPU",
    "colab": {
      "name": "imersao_dados_desafio_final.ipynb",
      "provenance": [],
      "collapsed_sections": [
        "QHis95GgGfAO"
      ],
      "include_colab_link": true
    },
    "kernelspec": {
      "display_name": "Python 3",
      "language": "python",
      "name": "python3"
    },
    "language_info": {
      "codemirror_mode": {
        "name": "ipython",
        "version": 3
      },
      "file_extension": ".py",
      "mimetype": "text/x-python",
      "name": "python",
      "nbconvert_exporter": "python",
      "pygments_lexer": "ipython3",
      "version": "3.8.5"
    }
  },
  "cells": [
    {
      "cell_type": "markdown",
      "metadata": {
        "id": "view-in-github",
        "colab_type": "text"
      },
      "source": [
        "<a href=\"https://colab.research.google.com/github/vlopesliliane/imersao-dados-desafio-final/blob/main/imersao_dados_desafio_final.ipynb\" target=\"_parent\"><img src=\"https://colab.research.google.com/assets/colab-badge.svg\" alt=\"Open In Colab\"/></a>"
      ]
    },
    {
      "cell_type": "markdown",
      "metadata": {
        "id": "Q0gILY9-YBlK"
      },
      "source": [
        "<a href=\"https://ibb.co/x2HNNwK\"><img src=\"https://i.ibb.co/BfN99vH/1-Banner-Desafio-Git-Hub.png\" alt=\"1-Banner-Desafio-Git-Hub\" border=\"0\"></a>\n"
      ]
    },
    {
      "cell_type": "markdown",
      "metadata": {
        "id": "petiIAPbvkQd"
      },
      "source": [
        "# **Comparação de modelos de *Machine Learning* na previsão dos Mecanismos de Ação (MoA) e descoberta de novas drogas**"
      ]
    },
    {
      "cell_type": "markdown",
      "metadata": {
        "id": "41IFPqBC5awF"
      },
      "source": [
        "#A Consulta Médica"
      ]
    },
    {
      "cell_type": "markdown",
      "metadata": {
        "id": "yHJLNj82CDcV"
      },
      "source": [
        "# A Anamnese "
      ]
    },
    {
      "cell_type": "markdown",
      "metadata": {
        "id": "lz1z7OZhEzxz"
      },
      "source": [
        "### Bibliotecas Necessárias"
      ]
    },
    {
      "cell_type": "code",
      "metadata": {
        "id": "bJ9pt8jDE-19"
      },
      "source": [
        "import pandas as pd\n",
        "import seaborn as sns\n",
        "import matplotlib.pyplot as plt\n",
        "import numpy as np\n",
        "from sklearn.model_selection import train_test_split\n",
        "\n",
        "#imporata o modelo de regressão logística\n",
        "from sklearn.linear_model import LogisticRegression\n",
        "#importa função de teste\n",
        "from sklearn.model_selection import train_test_split\n",
        "\n",
        "from sklearn.dummy import DummyClassifier\n",
        "from sklearn.metrics import accuracy_score\n",
        "\n",
        "from sklearn.tree import DecisionTreeClassifier\n",
        "\n",
        "from sklearn import tree\n",
        "\n",
        "from sklearn.tree import DecisionTreeClassifier\n",
        "\n",
        "from sklearn.ensemble import RandomForestClassifier\n"
      ],
      "execution_count": null,
      "outputs": []
    },
    {
      "cell_type": "markdown",
      "metadata": {
        "id": "4KFzanv_ChDZ"
      },
      "source": [
        "### Importação da base de dados"
      ]
    },
    {
      "cell_type": "code",
      "metadata": {
        "colab": {
          "base_uri": "https://localhost:8080/",
          "height": 272
        },
        "id": "MYFFIkebFB-R",
        "outputId": "fb2524c4-1359-48ca-fe6b-8a50e66c8884"
      },
      "source": [
        "url_dados = 'https://github.com/alura-cursos/imersaodados3/blob/main/dados/dados_experimentos.zip?raw=true'\n",
        "dados = pd.read_csv(url_dados, compression = 'zip')\n",
        "\n",
        "dados_resultados = pd.read_csv('https://github.com/alura-cursos/imersaodados3/blob/main/dados/dados_resultados.csv?raw=true')\n",
        "dados_resultados.head()"
      ],
      "execution_count": null,
      "outputs": [
        {
          "output_type": "execute_result",
          "data": {
            "text/html": [
              "<div>\n",
              "<style scoped>\n",
              "    .dataframe tbody tr th:only-of-type {\n",
              "        vertical-align: middle;\n",
              "    }\n",
              "\n",
              "    .dataframe tbody tr th {\n",
              "        vertical-align: top;\n",
              "    }\n",
              "\n",
              "    .dataframe thead th {\n",
              "        text-align: right;\n",
              "    }\n",
              "</style>\n",
              "<table border=\"1\" class=\"dataframe\">\n",
              "  <thead>\n",
              "    <tr style=\"text-align: right;\">\n",
              "      <th></th>\n",
              "      <th>id</th>\n",
              "      <th>5-alpha_reductase_inhibitor</th>\n",
              "      <th>11-beta-hsd1_inhibitor</th>\n",
              "      <th>acat_inhibitor</th>\n",
              "      <th>acetylcholine_receptor_agonist</th>\n",
              "      <th>acetylcholine_receptor_antagonist</th>\n",
              "      <th>acetylcholinesterase_inhibitor</th>\n",
              "      <th>adenosine_receptor_agonist</th>\n",
              "      <th>adenosine_receptor_antagonist</th>\n",
              "      <th>adenylyl_cyclase_activator</th>\n",
              "      <th>...</th>\n",
              "      <th>tropomyosin_receptor_kinase_inhibitor</th>\n",
              "      <th>trpv_agonist</th>\n",
              "      <th>trpv_antagonist</th>\n",
              "      <th>tubulin_inhibitor</th>\n",
              "      <th>tyrosine_kinase_inhibitor</th>\n",
              "      <th>ubiquitin_specific_protease_inhibitor</th>\n",
              "      <th>vegfr_inhibitor</th>\n",
              "      <th>vitamin_b</th>\n",
              "      <th>vitamin_d_receptor_agonist</th>\n",
              "      <th>wnt_inhibitor</th>\n",
              "    </tr>\n",
              "  </thead>\n",
              "  <tbody>\n",
              "    <tr>\n",
              "      <th>0</th>\n",
              "      <td>id_000644bb2</td>\n",
              "      <td>0</td>\n",
              "      <td>0</td>\n",
              "      <td>0</td>\n",
              "      <td>0</td>\n",
              "      <td>0</td>\n",
              "      <td>0</td>\n",
              "      <td>0</td>\n",
              "      <td>0</td>\n",
              "      <td>0</td>\n",
              "      <td>...</td>\n",
              "      <td>0</td>\n",
              "      <td>0</td>\n",
              "      <td>0</td>\n",
              "      <td>0</td>\n",
              "      <td>0</td>\n",
              "      <td>0</td>\n",
              "      <td>0</td>\n",
              "      <td>0</td>\n",
              "      <td>0</td>\n",
              "      <td>0</td>\n",
              "    </tr>\n",
              "    <tr>\n",
              "      <th>1</th>\n",
              "      <td>id_000779bfc</td>\n",
              "      <td>0</td>\n",
              "      <td>0</td>\n",
              "      <td>0</td>\n",
              "      <td>0</td>\n",
              "      <td>0</td>\n",
              "      <td>0</td>\n",
              "      <td>0</td>\n",
              "      <td>0</td>\n",
              "      <td>0</td>\n",
              "      <td>...</td>\n",
              "      <td>0</td>\n",
              "      <td>0</td>\n",
              "      <td>0</td>\n",
              "      <td>0</td>\n",
              "      <td>0</td>\n",
              "      <td>0</td>\n",
              "      <td>0</td>\n",
              "      <td>0</td>\n",
              "      <td>0</td>\n",
              "      <td>0</td>\n",
              "    </tr>\n",
              "    <tr>\n",
              "      <th>2</th>\n",
              "      <td>id_000a6266a</td>\n",
              "      <td>0</td>\n",
              "      <td>0</td>\n",
              "      <td>0</td>\n",
              "      <td>0</td>\n",
              "      <td>0</td>\n",
              "      <td>0</td>\n",
              "      <td>0</td>\n",
              "      <td>0</td>\n",
              "      <td>0</td>\n",
              "      <td>...</td>\n",
              "      <td>0</td>\n",
              "      <td>0</td>\n",
              "      <td>0</td>\n",
              "      <td>0</td>\n",
              "      <td>0</td>\n",
              "      <td>0</td>\n",
              "      <td>0</td>\n",
              "      <td>0</td>\n",
              "      <td>0</td>\n",
              "      <td>0</td>\n",
              "    </tr>\n",
              "    <tr>\n",
              "      <th>3</th>\n",
              "      <td>id_0015fd391</td>\n",
              "      <td>0</td>\n",
              "      <td>0</td>\n",
              "      <td>0</td>\n",
              "      <td>0</td>\n",
              "      <td>0</td>\n",
              "      <td>0</td>\n",
              "      <td>0</td>\n",
              "      <td>0</td>\n",
              "      <td>0</td>\n",
              "      <td>...</td>\n",
              "      <td>0</td>\n",
              "      <td>0</td>\n",
              "      <td>0</td>\n",
              "      <td>0</td>\n",
              "      <td>0</td>\n",
              "      <td>0</td>\n",
              "      <td>0</td>\n",
              "      <td>0</td>\n",
              "      <td>0</td>\n",
              "      <td>0</td>\n",
              "    </tr>\n",
              "    <tr>\n",
              "      <th>4</th>\n",
              "      <td>id_001626bd3</td>\n",
              "      <td>0</td>\n",
              "      <td>0</td>\n",
              "      <td>0</td>\n",
              "      <td>0</td>\n",
              "      <td>0</td>\n",
              "      <td>0</td>\n",
              "      <td>0</td>\n",
              "      <td>0</td>\n",
              "      <td>0</td>\n",
              "      <td>...</td>\n",
              "      <td>0</td>\n",
              "      <td>0</td>\n",
              "      <td>0</td>\n",
              "      <td>0</td>\n",
              "      <td>0</td>\n",
              "      <td>0</td>\n",
              "      <td>0</td>\n",
              "      <td>0</td>\n",
              "      <td>0</td>\n",
              "      <td>0</td>\n",
              "    </tr>\n",
              "  </tbody>\n",
              "</table>\n",
              "<p>5 rows × 207 columns</p>\n",
              "</div>"
            ],
            "text/plain": [
              "             id  5-alpha_reductase_inhibitor  11-beta-hsd1_inhibitor  \\\n",
              "0  id_000644bb2                            0                       0   \n",
              "1  id_000779bfc                            0                       0   \n",
              "2  id_000a6266a                            0                       0   \n",
              "3  id_0015fd391                            0                       0   \n",
              "4  id_001626bd3                            0                       0   \n",
              "\n",
              "   acat_inhibitor  acetylcholine_receptor_agonist  \\\n",
              "0               0                               0   \n",
              "1               0                               0   \n",
              "2               0                               0   \n",
              "3               0                               0   \n",
              "4               0                               0   \n",
              "\n",
              "   acetylcholine_receptor_antagonist  acetylcholinesterase_inhibitor  \\\n",
              "0                                  0                               0   \n",
              "1                                  0                               0   \n",
              "2                                  0                               0   \n",
              "3                                  0                               0   \n",
              "4                                  0                               0   \n",
              "\n",
              "   adenosine_receptor_agonist  adenosine_receptor_antagonist  \\\n",
              "0                           0                              0   \n",
              "1                           0                              0   \n",
              "2                           0                              0   \n",
              "3                           0                              0   \n",
              "4                           0                              0   \n",
              "\n",
              "   adenylyl_cyclase_activator  ...  tropomyosin_receptor_kinase_inhibitor  \\\n",
              "0                           0  ...                                      0   \n",
              "1                           0  ...                                      0   \n",
              "2                           0  ...                                      0   \n",
              "3                           0  ...                                      0   \n",
              "4                           0  ...                                      0   \n",
              "\n",
              "   trpv_agonist  trpv_antagonist  tubulin_inhibitor  \\\n",
              "0             0                0                  0   \n",
              "1             0                0                  0   \n",
              "2             0                0                  0   \n",
              "3             0                0                  0   \n",
              "4             0                0                  0   \n",
              "\n",
              "   tyrosine_kinase_inhibitor  ubiquitin_specific_protease_inhibitor  \\\n",
              "0                          0                                      0   \n",
              "1                          0                                      0   \n",
              "2                          0                                      0   \n",
              "3                          0                                      0   \n",
              "4                          0                                      0   \n",
              "\n",
              "   vegfr_inhibitor  vitamin_b  vitamin_d_receptor_agonist  wnt_inhibitor  \n",
              "0                0          0                           0              0  \n",
              "1                0          0                           0              0  \n",
              "2                0          0                           0              0  \n",
              "3                0          0                           0              0  \n",
              "4                0          0                           0              0  \n",
              "\n",
              "[5 rows x 207 columns]"
            ]
          },
          "metadata": {
            "tags": []
          },
          "execution_count": 6
        }
      ]
    },
    {
      "cell_type": "markdown",
      "metadata": {
        "id": "0-iuhMqpHB1W"
      },
      "source": [
        "### Criação do *DataFrame* de Teste"
      ]
    },
    {
      "cell_type": "code",
      "metadata": {
        "colab": {
          "base_uri": "https://localhost:8080/"
        },
        "id": "wWW2AoRFHIsB",
        "outputId": "648c161f-0fbc-4793-e766-39b50539f642"
      },
      "source": [
        "dados_resultados['n_moa'] = dados_resultados.drop('id', axis=1).sum(axis=1)\n",
        "dados_resultados['n_moa'] != 0\n",
        "dados_resultados['ativo_moa'] = (dados_resultados['n_moa'] != 0)\n",
        "dados_combinados = pd.merge(dados, dados_resultados[['id','n_moa', 'ativo_moa']], on='id')\n",
        "dados_combinados.head()"
      ],
      "execution_count": null,
      "outputs": [
        {
          "output_type": "execute_result",
          "data": {
            "text/html": [
              "<div>\n",
              "<style scoped>\n",
              "    .dataframe tbody tr th:only-of-type {\n",
              "        vertical-align: middle;\n",
              "    }\n",
              "\n",
              "    .dataframe tbody tr th {\n",
              "        vertical-align: top;\n",
              "    }\n",
              "\n",
              "    .dataframe thead th {\n",
              "        text-align: right;\n",
              "    }\n",
              "</style>\n",
              "<table border=\"1\" class=\"dataframe\">\n",
              "  <thead>\n",
              "    <tr style=\"text-align: right;\">\n",
              "      <th></th>\n",
              "      <th>id</th>\n",
              "      <th>tratamento</th>\n",
              "      <th>tempo</th>\n",
              "      <th>dose</th>\n",
              "      <th>droga</th>\n",
              "      <th>g-0</th>\n",
              "      <th>g-1</th>\n",
              "      <th>g-2</th>\n",
              "      <th>g-3</th>\n",
              "      <th>g-4</th>\n",
              "      <th>...</th>\n",
              "      <th>c-92</th>\n",
              "      <th>c-93</th>\n",
              "      <th>c-94</th>\n",
              "      <th>c-95</th>\n",
              "      <th>c-96</th>\n",
              "      <th>c-97</th>\n",
              "      <th>c-98</th>\n",
              "      <th>c-99</th>\n",
              "      <th>n_moa</th>\n",
              "      <th>ativo_moa</th>\n",
              "    </tr>\n",
              "  </thead>\n",
              "  <tbody>\n",
              "    <tr>\n",
              "      <th>0</th>\n",
              "      <td>id_000644bb2</td>\n",
              "      <td>com_droga</td>\n",
              "      <td>24</td>\n",
              "      <td>D1</td>\n",
              "      <td>b68db1d53</td>\n",
              "      <td>1.0620</td>\n",
              "      <td>0.5577</td>\n",
              "      <td>-0.2479</td>\n",
              "      <td>-0.6208</td>\n",
              "      <td>-0.1944</td>\n",
              "      <td>...</td>\n",
              "      <td>0.8076</td>\n",
              "      <td>0.5523</td>\n",
              "      <td>-0.1912</td>\n",
              "      <td>0.6584</td>\n",
              "      <td>-0.3981</td>\n",
              "      <td>0.2139</td>\n",
              "      <td>0.3801</td>\n",
              "      <td>0.4176</td>\n",
              "      <td>3.0</td>\n",
              "      <td>True</td>\n",
              "    </tr>\n",
              "    <tr>\n",
              "      <th>1</th>\n",
              "      <td>id_000779bfc</td>\n",
              "      <td>com_droga</td>\n",
              "      <td>72</td>\n",
              "      <td>D1</td>\n",
              "      <td>df89a8e5a</td>\n",
              "      <td>0.0743</td>\n",
              "      <td>0.4087</td>\n",
              "      <td>0.2991</td>\n",
              "      <td>0.0604</td>\n",
              "      <td>1.0190</td>\n",
              "      <td>...</td>\n",
              "      <td>0.4708</td>\n",
              "      <td>0.0230</td>\n",
              "      <td>0.2957</td>\n",
              "      <td>0.4899</td>\n",
              "      <td>0.1522</td>\n",
              "      <td>0.1241</td>\n",
              "      <td>0.6077</td>\n",
              "      <td>0.7371</td>\n",
              "      <td>0.0</td>\n",
              "      <td>False</td>\n",
              "    </tr>\n",
              "    <tr>\n",
              "      <th>2</th>\n",
              "      <td>id_000a6266a</td>\n",
              "      <td>com_droga</td>\n",
              "      <td>48</td>\n",
              "      <td>D1</td>\n",
              "      <td>18bb41b2c</td>\n",
              "      <td>0.6280</td>\n",
              "      <td>0.5817</td>\n",
              "      <td>1.5540</td>\n",
              "      <td>-0.0764</td>\n",
              "      <td>-0.0323</td>\n",
              "      <td>...</td>\n",
              "      <td>0.6103</td>\n",
              "      <td>0.0223</td>\n",
              "      <td>-1.3240</td>\n",
              "      <td>-0.3174</td>\n",
              "      <td>-0.6417</td>\n",
              "      <td>-0.2187</td>\n",
              "      <td>-1.4080</td>\n",
              "      <td>0.6931</td>\n",
              "      <td>7.0</td>\n",
              "      <td>True</td>\n",
              "    </tr>\n",
              "    <tr>\n",
              "      <th>3</th>\n",
              "      <td>id_0015fd391</td>\n",
              "      <td>com_droga</td>\n",
              "      <td>48</td>\n",
              "      <td>D1</td>\n",
              "      <td>8c7f86626</td>\n",
              "      <td>-0.5138</td>\n",
              "      <td>-0.2491</td>\n",
              "      <td>-0.2656</td>\n",
              "      <td>0.5288</td>\n",
              "      <td>4.0620</td>\n",
              "      <td>...</td>\n",
              "      <td>-5.6300</td>\n",
              "      <td>-1.3780</td>\n",
              "      <td>-0.8632</td>\n",
              "      <td>-1.2880</td>\n",
              "      <td>-1.6210</td>\n",
              "      <td>-0.8784</td>\n",
              "      <td>-0.3876</td>\n",
              "      <td>-0.8154</td>\n",
              "      <td>0.0</td>\n",
              "      <td>False</td>\n",
              "    </tr>\n",
              "    <tr>\n",
              "      <th>4</th>\n",
              "      <td>id_001626bd3</td>\n",
              "      <td>com_droga</td>\n",
              "      <td>72</td>\n",
              "      <td>D2</td>\n",
              "      <td>7cbed3131</td>\n",
              "      <td>-0.3254</td>\n",
              "      <td>-0.4009</td>\n",
              "      <td>0.9700</td>\n",
              "      <td>0.6919</td>\n",
              "      <td>1.4180</td>\n",
              "      <td>...</td>\n",
              "      <td>0.6670</td>\n",
              "      <td>1.0690</td>\n",
              "      <td>0.5523</td>\n",
              "      <td>-0.3031</td>\n",
              "      <td>0.1094</td>\n",
              "      <td>0.2885</td>\n",
              "      <td>-0.3786</td>\n",
              "      <td>0.7125</td>\n",
              "      <td>3.0</td>\n",
              "      <td>True</td>\n",
              "    </tr>\n",
              "  </tbody>\n",
              "</table>\n",
              "<p>5 rows × 879 columns</p>\n",
              "</div>"
            ],
            "text/plain": [
              "             id tratamento  tempo dose      droga     g-0     g-1     g-2  \\\n",
              "0  id_000644bb2  com_droga     24   D1  b68db1d53  1.0620  0.5577 -0.2479   \n",
              "1  id_000779bfc  com_droga     72   D1  df89a8e5a  0.0743  0.4087  0.2991   \n",
              "2  id_000a6266a  com_droga     48   D1  18bb41b2c  0.6280  0.5817  1.5540   \n",
              "3  id_0015fd391  com_droga     48   D1  8c7f86626 -0.5138 -0.2491 -0.2656   \n",
              "4  id_001626bd3  com_droga     72   D2  7cbed3131 -0.3254 -0.4009  0.9700   \n",
              "\n",
              "      g-3     g-4  ...    c-92    c-93    c-94    c-95    c-96    c-97  \\\n",
              "0 -0.6208 -0.1944  ...  0.8076  0.5523 -0.1912  0.6584 -0.3981  0.2139   \n",
              "1  0.0604  1.0190  ...  0.4708  0.0230  0.2957  0.4899  0.1522  0.1241   \n",
              "2 -0.0764 -0.0323  ...  0.6103  0.0223 -1.3240 -0.3174 -0.6417 -0.2187   \n",
              "3  0.5288  4.0620  ... -5.6300 -1.3780 -0.8632 -1.2880 -1.6210 -0.8784   \n",
              "4  0.6919  1.4180  ...  0.6670  1.0690  0.5523 -0.3031  0.1094  0.2885   \n",
              "\n",
              "     c-98    c-99  n_moa  ativo_moa  \n",
              "0  0.3801  0.4176    3.0       True  \n",
              "1  0.6077  0.7371    0.0      False  \n",
              "2 -1.4080  0.6931    7.0       True  \n",
              "3 -0.3876 -0.8154    0.0      False  \n",
              "4 -0.3786  0.7125    3.0       True  \n",
              "\n",
              "[5 rows x 879 columns]"
            ]
          },
          "metadata": {
            "tags": []
          },
          "execution_count": 8
        }
      ]
    },
    {
      "cell_type": "markdown",
      "metadata": {
        "id": "QHis95GgGfAO"
      },
      "source": [
        "### Compreensão das variáveis"
      ]
    },
    {
      "cell_type": "markdown",
      "metadata": {
        "id": "tvEzBfXRiXJt"
      },
      "source": [
        "A base de dados consiste nos registros de pesquisa científica com vários compostos aplicados em culturas de células que foram submetidas a um tipo de tratamento com drogas específicas. No total, foram investigadas **3289 tipos de drogas**, não sendo possível a identificação nominal de cada um delas, uma vez que o dados foram **anonimizados** para evitar vieses de confirmação capazes de direcionar a análise de resultados da pesquisa.\n",
        "\n",
        "O DataFrame é composto por **23814 registros/linhas** e **877 colunas.** Cada registro representa um experimento e as colunas definem os atributos de cada um desses experimentos: Id, que representa a identificação única de cada experimento, classe de tratamento, tempo de exposição e tipos de genes.\n",
        "\n",
        "Já sabemos que o atributo \"tratamento\" possui duas classes distinhas, sendo elas **\"com controle\" e \"com drogas\"**. O atributo tempo possui 3 valores distintos **(24, 48, 72)** e o atributo \"dose\", 2 tipos distintos **(D1 e D2).**\n",
        "\n",
        "Descobrimos que os dados referentes a série \"tratamento\" encontram-se desbalanceados uma vez que foram realizados muito mais experimentos **\"com_droga\" (21948)** em comparação com os experimentos com** \"com_controle\" (1866).** No entano, observa-se que o tempo médio de exposição para ambos é 48h."
      ]
    },
    {
      "cell_type": "code",
      "metadata": {
        "cellView": "form",
        "colab": {
          "base_uri": "https://localhost:8080/"
        },
        "id": "Y8QSSh0EVhdB",
        "outputId": "c389cc43-90c7-442b-8fdf-1571a5779073"
      },
      "source": [
        "#@title Estrutura do conjuntos de dados \n",
        "print (\"\\n\",\"Dados: \",  dados.shape, \"\\n\", \"Dado Resultados: \", dados_resultados.shape, \"\\n\",\"Dados Combinados: \", dados_combinados.shape)\n",
        "\n",
        "\n"
      ],
      "execution_count": null,
      "outputs": [
        {
          "output_type": "stream",
          "text": [
            "\n",
            " Dados:  (23814, 877) \n",
            " Dado Resultados:  (23814, 209) \n",
            " Dados Combinados:  (23814, 879)\n"
          ],
          "name": "stdout"
        }
      ]
    },
    {
      "cell_type": "code",
      "metadata": {
        "cellView": "form",
        "colab": {
          "base_uri": "https://localhost:8080/",
          "height": 88
        },
        "id": "CKE07Vm8VhoX",
        "outputId": "426e9465-bf2a-4aaa-8541-68b25269a488"
      },
      "source": [
        "#@title Nome da Colunas \n",
        "ColumnsName = list(dados_combinados.columns)\n",
        "str(ColumnsName)"
      ],
      "execution_count": null,
      "outputs": [
        {
          "output_type": "execute_result",
          "data": {
            "text/plain": [
              "\"['id', 'tratamento', 'tempo', 'dose', 'droga', 'g-0', 'g-1', 'g-2', 'g-3', 'g-4', 'g-5', 'g-6', 'g-7', 'g-8', 'g-9', 'g-10', 'g-11', 'g-12', 'g-13', 'g-14', 'g-15', 'g-16', 'g-17', 'g-18', 'g-19', 'g-20', 'g-21', 'g-22', 'g-23', 'g-24', 'g-25', 'g-26', 'g-27', 'g-28', 'g-29', 'g-30', 'g-31', 'g-32', 'g-33', 'g-34', 'g-35', 'g-36', 'g-37', 'g-38', 'g-39', 'g-40', 'g-41', 'g-42', 'g-43', 'g-44', 'g-45', 'g-46', 'g-47', 'g-48', 'g-49', 'g-50', 'g-51', 'g-52', 'g-53', 'g-54', 'g-55', 'g-56', 'g-57', 'g-58', 'g-59', 'g-60', 'g-61', 'g-62', 'g-63', 'g-64', 'g-65', 'g-66', 'g-67', 'g-68', 'g-69', 'g-70', 'g-71', 'g-72', 'g-73', 'g-74', 'g-75', 'g-76', 'g-77', 'g-78', 'g-79', 'g-80', 'g-81', 'g-82', 'g-83', 'g-84', 'g-85', 'g-86', 'g-87', 'g-88', 'g-89', 'g-90', 'g-91', 'g-92', 'g-93', 'g-94', 'g-95', 'g-96', 'g-97', 'g-98', 'g-99', 'g-100', 'g-101', 'g-102', 'g-103', 'g-104', 'g-105', 'g-106', 'g-107', 'g-108', 'g-109', 'g-110', 'g-111', 'g-112', 'g-113', 'g-114', 'g-115', 'g-116', 'g-117', 'g-118', 'g-119', 'g-120', 'g-121', 'g-122', 'g-123', 'g-124', 'g-125', 'g-126', 'g-127', 'g-128', 'g-129', 'g-130', 'g-131', 'g-132', 'g-133', 'g-134', 'g-135', 'g-136', 'g-137', 'g-138', 'g-139', 'g-140', 'g-141', 'g-142', 'g-143', 'g-144', 'g-145', 'g-146', 'g-147', 'g-148', 'g-149', 'g-150', 'g-151', 'g-152', 'g-153', 'g-154', 'g-155', 'g-156', 'g-157', 'g-158', 'g-159', 'g-160', 'g-161', 'g-162', 'g-163', 'g-164', 'g-165', 'g-166', 'g-167', 'g-168', 'g-169', 'g-170', 'g-171', 'g-172', 'g-173', 'g-174', 'g-175', 'g-176', 'g-177', 'g-178', 'g-179', 'g-180', 'g-181', 'g-182', 'g-183', 'g-184', 'g-185', 'g-186', 'g-187', 'g-188', 'g-189', 'g-190', 'g-191', 'g-192', 'g-193', 'g-194', 'g-195', 'g-196', 'g-197', 'g-198', 'g-199', 'g-200', 'g-201', 'g-202', 'g-203', 'g-204', 'g-205', 'g-206', 'g-207', 'g-208', 'g-209', 'g-210', 'g-211', 'g-212', 'g-213', 'g-214', 'g-215', 'g-216', 'g-217', 'g-218', 'g-219', 'g-220', 'g-221', 'g-222', 'g-223', 'g-224', 'g-225', 'g-226', 'g-227', 'g-228', 'g-229', 'g-230', 'g-231', 'g-232', 'g-233', 'g-234', 'g-235', 'g-236', 'g-237', 'g-238', 'g-239', 'g-240', 'g-241', 'g-242', 'g-243', 'g-244', 'g-245', 'g-246', 'g-247', 'g-248', 'g-249', 'g-250', 'g-251', 'g-252', 'g-253', 'g-254', 'g-255', 'g-256', 'g-257', 'g-258', 'g-259', 'g-260', 'g-261', 'g-262', 'g-263', 'g-264', 'g-265', 'g-266', 'g-267', 'g-268', 'g-269', 'g-270', 'g-271', 'g-272', 'g-273', 'g-274', 'g-275', 'g-276', 'g-277', 'g-278', 'g-279', 'g-280', 'g-281', 'g-282', 'g-283', 'g-284', 'g-285', 'g-286', 'g-287', 'g-288', 'g-289', 'g-290', 'g-291', 'g-292', 'g-293', 'g-294', 'g-295', 'g-296', 'g-297', 'g-298', 'g-299', 'g-300', 'g-301', 'g-302', 'g-303', 'g-304', 'g-305', 'g-306', 'g-307', 'g-308', 'g-309', 'g-310', 'g-311', 'g-312', 'g-313', 'g-314', 'g-315', 'g-316', 'g-317', 'g-318', 'g-319', 'g-320', 'g-321', 'g-322', 'g-323', 'g-324', 'g-325', 'g-326', 'g-327', 'g-328', 'g-329', 'g-330', 'g-331', 'g-332', 'g-333', 'g-334', 'g-335', 'g-336', 'g-337', 'g-338', 'g-339', 'g-340', 'g-341', 'g-342', 'g-343', 'g-344', 'g-345', 'g-346', 'g-347', 'g-348', 'g-349', 'g-350', 'g-351', 'g-352', 'g-353', 'g-354', 'g-355', 'g-356', 'g-357', 'g-358', 'g-359', 'g-360', 'g-361', 'g-362', 'g-363', 'g-364', 'g-365', 'g-366', 'g-367', 'g-368', 'g-369', 'g-370', 'g-371', 'g-372', 'g-373', 'g-374', 'g-375', 'g-376', 'g-377', 'g-378', 'g-379', 'g-380', 'g-381', 'g-382', 'g-383', 'g-384', 'g-385', 'g-386', 'g-387', 'g-388', 'g-389', 'g-390', 'g-391', 'g-392', 'g-393', 'g-394', 'g-395', 'g-396', 'g-397', 'g-398', 'g-399', 'g-400', 'g-401', 'g-402', 'g-403', 'g-404', 'g-405', 'g-406', 'g-407', 'g-408', 'g-409', 'g-410', 'g-411', 'g-412', 'g-413', 'g-414', 'g-415', 'g-416', 'g-417', 'g-418', 'g-419', 'g-420', 'g-421', 'g-422', 'g-423', 'g-424', 'g-425', 'g-426', 'g-427', 'g-428', 'g-429', 'g-430', 'g-431', 'g-432', 'g-433', 'g-434', 'g-435', 'g-436', 'g-437', 'g-438', 'g-439', 'g-440', 'g-441', 'g-442', 'g-443', 'g-444', 'g-445', 'g-446', 'g-447', 'g-448', 'g-449', 'g-450', 'g-451', 'g-452', 'g-453', 'g-454', 'g-455', 'g-456', 'g-457', 'g-458', 'g-459', 'g-460', 'g-461', 'g-462', 'g-463', 'g-464', 'g-465', 'g-466', 'g-467', 'g-468', 'g-469', 'g-470', 'g-471', 'g-472', 'g-473', 'g-474', 'g-475', 'g-476', 'g-477', 'g-478', 'g-479', 'g-480', 'g-481', 'g-482', 'g-483', 'g-484', 'g-485', 'g-486', 'g-487', 'g-488', 'g-489', 'g-490', 'g-491', 'g-492', 'g-493', 'g-494', 'g-495', 'g-496', 'g-497', 'g-498', 'g-499', 'g-500', 'g-501', 'g-502', 'g-503', 'g-504', 'g-505', 'g-506', 'g-507', 'g-508', 'g-509', 'g-510', 'g-511', 'g-512', 'g-513', 'g-514', 'g-515', 'g-516', 'g-517', 'g-518', 'g-519', 'g-520', 'g-521', 'g-522', 'g-523', 'g-524', 'g-525', 'g-526', 'g-527', 'g-528', 'g-529', 'g-530', 'g-531', 'g-532', 'g-533', 'g-534', 'g-535', 'g-536', 'g-537', 'g-538', 'g-539', 'g-540', 'g-541', 'g-542', 'g-543', 'g-544', 'g-545', 'g-546', 'g-547', 'g-548', 'g-549', 'g-550', 'g-551', 'g-552', 'g-553', 'g-554', 'g-555', 'g-556', 'g-557', 'g-558', 'g-559', 'g-560', 'g-561', 'g-562', 'g-563', 'g-564', 'g-565', 'g-566', 'g-567', 'g-568', 'g-569', 'g-570', 'g-571', 'g-572', 'g-573', 'g-574', 'g-575', 'g-576', 'g-577', 'g-578', 'g-579', 'g-580', 'g-581', 'g-582', 'g-583', 'g-584', 'g-585', 'g-586', 'g-587', 'g-588', 'g-589', 'g-590', 'g-591', 'g-592', 'g-593', 'g-594', 'g-595', 'g-596', 'g-597', 'g-598', 'g-599', 'g-600', 'g-601', 'g-602', 'g-603', 'g-604', 'g-605', 'g-606', 'g-607', 'g-608', 'g-609', 'g-610', 'g-611', 'g-612', 'g-613', 'g-614', 'g-615', 'g-616', 'g-617', 'g-618', 'g-619', 'g-620', 'g-621', 'g-622', 'g-623', 'g-624', 'g-625', 'g-626', 'g-627', 'g-628', 'g-629', 'g-630', 'g-631', 'g-632', 'g-633', 'g-634', 'g-635', 'g-636', 'g-637', 'g-638', 'g-639', 'g-640', 'g-641', 'g-642', 'g-643', 'g-644', 'g-645', 'g-646', 'g-647', 'g-648', 'g-649', 'g-650', 'g-651', 'g-652', 'g-653', 'g-654', 'g-655', 'g-656', 'g-657', 'g-658', 'g-659', 'g-660', 'g-661', 'g-662', 'g-663', 'g-664', 'g-665', 'g-666', 'g-667', 'g-668', 'g-669', 'g-670', 'g-671', 'g-672', 'g-673', 'g-674', 'g-675', 'g-676', 'g-677', 'g-678', 'g-679', 'g-680', 'g-681', 'g-682', 'g-683', 'g-684', 'g-685', 'g-686', 'g-687', 'g-688', 'g-689', 'g-690', 'g-691', 'g-692', 'g-693', 'g-694', 'g-695', 'g-696', 'g-697', 'g-698', 'g-699', 'g-700', 'g-701', 'g-702', 'g-703', 'g-704', 'g-705', 'g-706', 'g-707', 'g-708', 'g-709', 'g-710', 'g-711', 'g-712', 'g-713', 'g-714', 'g-715', 'g-716', 'g-717', 'g-718', 'g-719', 'g-720', 'g-721', 'g-722', 'g-723', 'g-724', 'g-725', 'g-726', 'g-727', 'g-728', 'g-729', 'g-730', 'g-731', 'g-732', 'g-733', 'g-734', 'g-735', 'g-736', 'g-737', 'g-738', 'g-739', 'g-740', 'g-741', 'g-742', 'g-743', 'g-744', 'g-745', 'g-746', 'g-747', 'g-748', 'g-749', 'g-750', 'g-751', 'g-752', 'g-753', 'g-754', 'g-755', 'g-756', 'g-757', 'g-758', 'g-759', 'g-760', 'g-761', 'g-762', 'g-763', 'g-764', 'g-765', 'g-766', 'g-767', 'g-768', 'g-769', 'g-770', 'g-771', 'c-0', 'c-1', 'c-2', 'c-3', 'c-4', 'c-5', 'c-6', 'c-7', 'c-8', 'c-9', 'c-10', 'c-11', 'c-12', 'c-13', 'c-14', 'c-15', 'c-16', 'c-17', 'c-18', 'c-19', 'c-20', 'c-21', 'c-22', 'c-23', 'c-24', 'c-25', 'c-26', 'c-27', 'c-28', 'c-29', 'c-30', 'c-31', 'c-32', 'c-33', 'c-34', 'c-35', 'c-36', 'c-37', 'c-38', 'c-39', 'c-40', 'c-41', 'c-42', 'c-43', 'c-44', 'c-45', 'c-46', 'c-47', 'c-48', 'c-49', 'c-50', 'c-51', 'c-52', 'c-53', 'c-54', 'c-55', 'c-56', 'c-57', 'c-58', 'c-59', 'c-60', 'c-61', 'c-62', 'c-63', 'c-64', 'c-65', 'c-66', 'c-67', 'c-68', 'c-69', 'c-70', 'c-71', 'c-72', 'c-73', 'c-74', 'c-75', 'c-76', 'c-77', 'c-78', 'c-79', 'c-80', 'c-81', 'c-82', 'c-83', 'c-84', 'c-85', 'c-86', 'c-87', 'c-88', 'c-89', 'c-90', 'c-91', 'c-92', 'c-93', 'c-94', 'c-95', 'c-96', 'c-97', 'c-98', 'c-99', 'n_moa', 'ativo_moa']\""
            ]
          },
          "metadata": {
            "tags": []
          },
          "execution_count": 11
        }
      ]
    },
    {
      "cell_type": "code",
      "metadata": {
        "cellView": "form",
        "colab": {
          "base_uri": "https://localhost:8080/"
        },
        "id": "Bv7BxQWKXjGQ",
        "outputId": "b44698f5-d4b2-421e-bedd-ab794e884e5e"
      },
      "source": [
        "#@title Tipos de dados\n",
        "dados_combinados.dtypes"
      ],
      "execution_count": null,
      "outputs": [
        {
          "output_type": "execute_result",
          "data": {
            "text/plain": [
              "id             object\n",
              "tratamento     object\n",
              "tempo           int64\n",
              "dose           object\n",
              "droga          object\n",
              "               ...   \n",
              "c-97          float64\n",
              "c-98          float64\n",
              "c-99          float64\n",
              "n_moa         float64\n",
              "ativo_moa        bool\n",
              "Length: 879, dtype: object"
            ]
          },
          "metadata": {
            "tags": []
          },
          "execution_count": 12
        }
      ]
    },
    {
      "cell_type": "code",
      "metadata": {
        "cellView": "form",
        "colab": {
          "base_uri": "https://localhost:8080/"
        },
        "id": "wF0ppdWTBBdM",
        "outputId": "34b4e2c0-fc05-4520-9357-48c23f589e8c"
      },
      "source": [
        "#@title Quantidade de registros distintos por coluna\n",
        "\n",
        "dados_combinados.nunique (axis = 0)"
      ],
      "execution_count": null,
      "outputs": [
        {
          "output_type": "execute_result",
          "data": {
            "text/plain": [
              "id            23814\n",
              "tratamento        2\n",
              "tempo             3\n",
              "dose              2\n",
              "droga          3289\n",
              "              ...  \n",
              "c-97          14757\n",
              "c-98          14812\n",
              "c-99          14622\n",
              "n_moa             7\n",
              "ativo_moa         2\n",
              "Length: 879, dtype: int64"
            ]
          },
          "metadata": {
            "tags": []
          },
          "execution_count": 13
        }
      ]
    },
    {
      "cell_type": "code",
      "metadata": {
        "cellView": "form",
        "colab": {
          "base_uri": "https://localhost:8080/",
          "height": 347
        },
        "id": "0gG_ObtYB52f",
        "outputId": "154e76cb-8aca-4184-f393-1c2190430e97"
      },
      "source": [
        "#@title Análise de variáveis discretas \n",
        "\n",
        "dados_combinados.describe (). apply (lambda s: s.apply (lambda x: format (x, 'f')))"
      ],
      "execution_count": null,
      "outputs": [
        {
          "output_type": "execute_result",
          "data": {
            "text/html": [
              "<div>\n",
              "<style scoped>\n",
              "    .dataframe tbody tr th:only-of-type {\n",
              "        vertical-align: middle;\n",
              "    }\n",
              "\n",
              "    .dataframe tbody tr th {\n",
              "        vertical-align: top;\n",
              "    }\n",
              "\n",
              "    .dataframe thead th {\n",
              "        text-align: right;\n",
              "    }\n",
              "</style>\n",
              "<table border=\"1\" class=\"dataframe\">\n",
              "  <thead>\n",
              "    <tr style=\"text-align: right;\">\n",
              "      <th></th>\n",
              "      <th>tempo</th>\n",
              "      <th>g-0</th>\n",
              "      <th>g-1</th>\n",
              "      <th>g-2</th>\n",
              "      <th>g-3</th>\n",
              "      <th>g-4</th>\n",
              "      <th>g-5</th>\n",
              "      <th>g-6</th>\n",
              "      <th>g-7</th>\n",
              "      <th>g-8</th>\n",
              "      <th>...</th>\n",
              "      <th>c-91</th>\n",
              "      <th>c-92</th>\n",
              "      <th>c-93</th>\n",
              "      <th>c-94</th>\n",
              "      <th>c-95</th>\n",
              "      <th>c-96</th>\n",
              "      <th>c-97</th>\n",
              "      <th>c-98</th>\n",
              "      <th>c-99</th>\n",
              "      <th>n_moa</th>\n",
              "    </tr>\n",
              "  </thead>\n",
              "  <tbody>\n",
              "    <tr>\n",
              "      <th>count</th>\n",
              "      <td>23814.000000</td>\n",
              "      <td>23814.000000</td>\n",
              "      <td>23814.000000</td>\n",
              "      <td>23814.000000</td>\n",
              "      <td>23814.000000</td>\n",
              "      <td>23814.000000</td>\n",
              "      <td>23814.000000</td>\n",
              "      <td>23814.000000</td>\n",
              "      <td>23814.000000</td>\n",
              "      <td>23814.000000</td>\n",
              "      <td>...</td>\n",
              "      <td>23814.000000</td>\n",
              "      <td>23814.000000</td>\n",
              "      <td>23814.000000</td>\n",
              "      <td>23814.000000</td>\n",
              "      <td>23814.000000</td>\n",
              "      <td>23814.000000</td>\n",
              "      <td>23814.000000</td>\n",
              "      <td>23814.000000</td>\n",
              "      <td>23814.000000</td>\n",
              "      <td>23814.000000</td>\n",
              "    </tr>\n",
              "    <tr>\n",
              "      <th>mean</th>\n",
              "      <td>48.020156</td>\n",
              "      <td>0.248366</td>\n",
              "      <td>-0.095684</td>\n",
              "      <td>0.152253</td>\n",
              "      <td>0.081971</td>\n",
              "      <td>0.057347</td>\n",
              "      <td>-0.138836</td>\n",
              "      <td>0.035961</td>\n",
              "      <td>-0.202651</td>\n",
              "      <td>-0.190083</td>\n",
              "      <td>...</td>\n",
              "      <td>-0.461411</td>\n",
              "      <td>-0.513256</td>\n",
              "      <td>-0.500142</td>\n",
              "      <td>-0.507093</td>\n",
              "      <td>-0.353726</td>\n",
              "      <td>-0.463485</td>\n",
              "      <td>-0.378241</td>\n",
              "      <td>-0.470252</td>\n",
              "      <td>-0.301505</td>\n",
              "      <td>2.021290</td>\n",
              "    </tr>\n",
              "    <tr>\n",
              "      <th>std</th>\n",
              "      <td>19.402807</td>\n",
              "      <td>1.393399</td>\n",
              "      <td>0.812363</td>\n",
              "      <td>1.035731</td>\n",
              "      <td>0.950012</td>\n",
              "      <td>1.032091</td>\n",
              "      <td>1.179388</td>\n",
              "      <td>0.882395</td>\n",
              "      <td>1.125494</td>\n",
              "      <td>1.749885</td>\n",
              "      <td>...</td>\n",
              "      <td>2.042475</td>\n",
              "      <td>2.001714</td>\n",
              "      <td>2.107105</td>\n",
              "      <td>2.159589</td>\n",
              "      <td>1.629291</td>\n",
              "      <td>2.059725</td>\n",
              "      <td>1.703615</td>\n",
              "      <td>1.834828</td>\n",
              "      <td>1.407918</td>\n",
              "      <td>1.788462</td>\n",
              "    </tr>\n",
              "    <tr>\n",
              "      <th>min</th>\n",
              "      <td>24.000000</td>\n",
              "      <td>-5.513000</td>\n",
              "      <td>-5.737000</td>\n",
              "      <td>-9.104000</td>\n",
              "      <td>-5.998000</td>\n",
              "      <td>-6.369000</td>\n",
              "      <td>-10.000000</td>\n",
              "      <td>-10.000000</td>\n",
              "      <td>-10.000000</td>\n",
              "      <td>-10.000000</td>\n",
              "      <td>...</td>\n",
              "      <td>-10.000000</td>\n",
              "      <td>-10.000000</td>\n",
              "      <td>-10.000000</td>\n",
              "      <td>-10.000000</td>\n",
              "      <td>-10.000000</td>\n",
              "      <td>-10.000000</td>\n",
              "      <td>-10.000000</td>\n",
              "      <td>-10.000000</td>\n",
              "      <td>-10.000000</td>\n",
              "      <td>0.000000</td>\n",
              "    </tr>\n",
              "    <tr>\n",
              "      <th>25%</th>\n",
              "      <td>24.000000</td>\n",
              "      <td>-0.473075</td>\n",
              "      <td>-0.562200</td>\n",
              "      <td>-0.437750</td>\n",
              "      <td>-0.429575</td>\n",
              "      <td>-0.470925</td>\n",
              "      <td>-0.602225</td>\n",
              "      <td>-0.493900</td>\n",
              "      <td>-0.525175</td>\n",
              "      <td>-0.511675</td>\n",
              "      <td>...</td>\n",
              "      <td>-0.565975</td>\n",
              "      <td>-0.589975</td>\n",
              "      <td>-0.568700</td>\n",
              "      <td>-0.563775</td>\n",
              "      <td>-0.567975</td>\n",
              "      <td>-0.552575</td>\n",
              "      <td>-0.561000</td>\n",
              "      <td>-0.592600</td>\n",
              "      <td>-0.562900</td>\n",
              "      <td>0.000000</td>\n",
              "    </tr>\n",
              "    <tr>\n",
              "      <th>50%</th>\n",
              "      <td>48.000000</td>\n",
              "      <td>-0.008850</td>\n",
              "      <td>-0.046600</td>\n",
              "      <td>0.075200</td>\n",
              "      <td>0.008050</td>\n",
              "      <td>-0.026900</td>\n",
              "      <td>-0.015650</td>\n",
              "      <td>-0.000650</td>\n",
              "      <td>-0.017900</td>\n",
              "      <td>0.010000</td>\n",
              "      <td>...</td>\n",
              "      <td>0.003250</td>\n",
              "      <td>-0.009100</td>\n",
              "      <td>-0.013750</td>\n",
              "      <td>-0.003300</td>\n",
              "      <td>-0.010250</td>\n",
              "      <td>-0.001250</td>\n",
              "      <td>-0.006800</td>\n",
              "      <td>0.014000</td>\n",
              "      <td>-0.019500</td>\n",
              "      <td>3.000000</td>\n",
              "    </tr>\n",
              "    <tr>\n",
              "      <th>75%</th>\n",
              "      <td>72.000000</td>\n",
              "      <td>0.525700</td>\n",
              "      <td>0.403075</td>\n",
              "      <td>0.663925</td>\n",
              "      <td>0.463400</td>\n",
              "      <td>0.465375</td>\n",
              "      <td>0.510425</td>\n",
              "      <td>0.528725</td>\n",
              "      <td>0.411900</td>\n",
              "      <td>0.549225</td>\n",
              "      <td>...</td>\n",
              "      <td>0.461500</td>\n",
              "      <td>0.445675</td>\n",
              "      <td>0.452900</td>\n",
              "      <td>0.470900</td>\n",
              "      <td>0.444750</td>\n",
              "      <td>0.465225</td>\n",
              "      <td>0.446400</td>\n",
              "      <td>0.461275</td>\n",
              "      <td>0.438650</td>\n",
              "      <td>3.000000</td>\n",
              "    </tr>\n",
              "    <tr>\n",
              "      <th>max</th>\n",
              "      <td>72.000000</td>\n",
              "      <td>10.000000</td>\n",
              "      <td>5.039000</td>\n",
              "      <td>8.257000</td>\n",
              "      <td>10.000000</td>\n",
              "      <td>10.000000</td>\n",
              "      <td>7.282000</td>\n",
              "      <td>7.333000</td>\n",
              "      <td>5.473000</td>\n",
              "      <td>8.887000</td>\n",
              "      <td>...</td>\n",
              "      <td>3.960000</td>\n",
              "      <td>3.927000</td>\n",
              "      <td>3.596000</td>\n",
              "      <td>3.747000</td>\n",
              "      <td>2.814000</td>\n",
              "      <td>3.505000</td>\n",
              "      <td>2.924000</td>\n",
              "      <td>3.111000</td>\n",
              "      <td>3.805000</td>\n",
              "      <td>15.000000</td>\n",
              "    </tr>\n",
              "  </tbody>\n",
              "</table>\n",
              "<p>8 rows × 874 columns</p>\n",
              "</div>"
            ],
            "text/plain": [
              "              tempo           g-0           g-1           g-2           g-3  \\\n",
              "count  23814.000000  23814.000000  23814.000000  23814.000000  23814.000000   \n",
              "mean      48.020156      0.248366     -0.095684      0.152253      0.081971   \n",
              "std       19.402807      1.393399      0.812363      1.035731      0.950012   \n",
              "min       24.000000     -5.513000     -5.737000     -9.104000     -5.998000   \n",
              "25%       24.000000     -0.473075     -0.562200     -0.437750     -0.429575   \n",
              "50%       48.000000     -0.008850     -0.046600      0.075200      0.008050   \n",
              "75%       72.000000      0.525700      0.403075      0.663925      0.463400   \n",
              "max       72.000000     10.000000      5.039000      8.257000     10.000000   \n",
              "\n",
              "                g-4           g-5           g-6           g-7           g-8  \\\n",
              "count  23814.000000  23814.000000  23814.000000  23814.000000  23814.000000   \n",
              "mean       0.057347     -0.138836      0.035961     -0.202651     -0.190083   \n",
              "std        1.032091      1.179388      0.882395      1.125494      1.749885   \n",
              "min       -6.369000    -10.000000    -10.000000    -10.000000    -10.000000   \n",
              "25%       -0.470925     -0.602225     -0.493900     -0.525175     -0.511675   \n",
              "50%       -0.026900     -0.015650     -0.000650     -0.017900      0.010000   \n",
              "75%        0.465375      0.510425      0.528725      0.411900      0.549225   \n",
              "max       10.000000      7.282000      7.333000      5.473000      8.887000   \n",
              "\n",
              "       ...          c-91          c-92          c-93          c-94  \\\n",
              "count  ...  23814.000000  23814.000000  23814.000000  23814.000000   \n",
              "mean   ...     -0.461411     -0.513256     -0.500142     -0.507093   \n",
              "std    ...      2.042475      2.001714      2.107105      2.159589   \n",
              "min    ...    -10.000000    -10.000000    -10.000000    -10.000000   \n",
              "25%    ...     -0.565975     -0.589975     -0.568700     -0.563775   \n",
              "50%    ...      0.003250     -0.009100     -0.013750     -0.003300   \n",
              "75%    ...      0.461500      0.445675      0.452900      0.470900   \n",
              "max    ...      3.960000      3.927000      3.596000      3.747000   \n",
              "\n",
              "               c-95          c-96          c-97          c-98          c-99  \\\n",
              "count  23814.000000  23814.000000  23814.000000  23814.000000  23814.000000   \n",
              "mean      -0.353726     -0.463485     -0.378241     -0.470252     -0.301505   \n",
              "std        1.629291      2.059725      1.703615      1.834828      1.407918   \n",
              "min      -10.000000    -10.000000    -10.000000    -10.000000    -10.000000   \n",
              "25%       -0.567975     -0.552575     -0.561000     -0.592600     -0.562900   \n",
              "50%       -0.010250     -0.001250     -0.006800      0.014000     -0.019500   \n",
              "75%        0.444750      0.465225      0.446400      0.461275      0.438650   \n",
              "max        2.814000      3.505000      2.924000      3.111000      3.805000   \n",
              "\n",
              "              n_moa  \n",
              "count  23814.000000  \n",
              "mean       2.021290  \n",
              "std        1.788462  \n",
              "min        0.000000  \n",
              "25%        0.000000  \n",
              "50%        3.000000  \n",
              "75%        3.000000  \n",
              "max       15.000000  \n",
              "\n",
              "[8 rows x 874 columns]"
            ]
          },
          "metadata": {
            "tags": []
          },
          "execution_count": 14
        }
      ]
    },
    {
      "cell_type": "markdown",
      "metadata": {
        "id": "81gbywq9Cl-G"
      },
      "source": [
        "### Verificação do balanceamento dos dados"
      ]
    },
    {
      "cell_type": "code",
      "metadata": {
        "cellView": "form",
        "colab": {
          "base_uri": "https://localhost:8080/",
          "height": 644
        },
        "id": "TwFNiH83Yzzo",
        "outputId": "bb8ba57b-1fa9-4788-a024-3cac6b9ef793"
      },
      "source": [
        "#@title Dashboard de frequência das principais vaiáveis do conjunto de dados \n",
        "#@markdown Observa-se pelo dashboard abaixo que os dados encontram-se balanceados, com exceção da coluna \"tratamento.\"\n",
        "\n",
        "#@markdown Para esse atributo, observa-se que foi realizado um número expressivo de experientos com_droga a mais do que com_controle.\n",
        "\n",
        "#@markdown Essa característica se deve ao tipo e área de negócio, que exige que esse tipo de pesquisa seja realizada com uma porcentagem de experimentos com placebo, na técnica duplo-cego.\n",
        "\n",
        "\n",
        "\n",
        "# Gráfico função pyplot da biblioteca matplotlib\n",
        "from matplotlib import pyplot as plt \n",
        "# Gráfico função gridspec da biblioteca matplotlib - para dashboard\n",
        "from matplotlib import gridspec \n",
        "sns.set() #corrigir erro gráfico colab\n",
        "\n",
        "#Calcula a frequencia e reverte o index. \n",
        "frequenciaTratamento = dados['tratamento'].value_counts(normalize = True).reset_index()\n",
        "frequenciaTempo = dados['tempo'].value_counts().reset_index()\n",
        "frequenciaDose = dados['dose'].value_counts().reset_index()\n",
        "#frequenciaAtivoMoa = dados_combinados['ativo_moa'].value_counts().reset_index()\n",
        "\n",
        "fig = plt.figure(figsize=(20,10))\n",
        "\n",
        "# Função para criar um dashboard\n",
        "specs = gridspec.GridSpec(ncols = 2, nrows = 2, figure= fig)\n",
        "\n",
        "ax1 = fig.add_subplot(specs[0, 0 ]) \n",
        "ax2 = fig.add_subplot(specs[0, 1 ]) \n",
        "ax3 = fig.add_subplot(specs[1, 0 ]) \n",
        "ax4 = fig.add_subplot(specs[1, 1 ])\n",
        "\n",
        "# GRÁFICO FREQUÊNCIA DA CLASSE TRATAMENTO\n",
        "plt.grid()\n",
        "ax1.bar(frequenciaTratamento['index'], frequenciaTratamento['tratamento'], color = sns.color_palette('cubehelix'), zorder = 2)\n",
        "ax1.set_title('FREQUÊNCIA DA CLASSE TRATAMENTO')\n",
        "ax1.set_xlabel('Tratamento')\n",
        "ax1.set_ylabel('Frequência')\n",
        "\n",
        "# GRÁFICO FREQUÊNCIA DA CLASSE TEMPO\n",
        "#plt.grid()\n",
        "ax2.bar(frequenciaTempo['index'], frequenciaTempo['tempo'], color = sns.color_palette('cubehelix'), zorder = 2)\n",
        "ax2.set_title('FREQUÊNCIA DA CLASSE TEMPO')\n",
        "ax2.set_xlabel('Tempo')\n",
        "ax2.set_ylabel('Frequência')\n",
        "\n",
        "# GRÁFICO FREQUÊNCIA DA CLASSE TEMPO\n",
        "plt.grid()\n",
        "ax3.bar(frequenciaDose['index'], frequenciaDose['dose'], color = sns.color_palette('cubehelix'), zorder = 2)\n",
        "ax3.set_title('FREQUÊNCIA DA CLASSE DOSE')\n",
        "ax3.set_xlabel('Dose')\n",
        "ax3.set_ylabel('Frequência')\n",
        "\n",
        "# GRÁFICO FREQUÊNCIA DA CLASSE TEMPO\n",
        "plt.grid()\n",
        "ax4 = dados_combinados['ativo_moa'].value_counts().plot.bar()\n",
        "#ax4.bar(frequenciaAtivoMoa['index'], frequenciaAtivoMoa['ativo_moa'], color = sns.color_palette('cubehelix'), zorder = 2)\n",
        "ax4.set_title('FREQUÊNCIA DA CLASSE ATIVO MOA')\n",
        "ax4.set_xlabel('Ativo')\n",
        "ax4.set_ylabel('Frequência')\n",
        "\n",
        "plt.show()\n"
      ],
      "execution_count": null,
      "outputs": [
        {
          "output_type": "display_data",
          "data": {
            "image/png": "[encoded data removed]",
            "text/plain": [
              "<Figure size 1440x720 with 4 Axes>"
            ]
          },
          "metadata": {
            "tags": []
          }
        }
      ]
    },
    {
      "cell_type": "code",
      "metadata": {
        "cellView": "form",
        "colab": {
          "base_uri": "https://localhost:8080/"
        },
        "id": "uAxYi7--Dh43",
        "outputId": "a5c0fc93-0a8e-4302-ff02-6fc6072d563b"
      },
      "source": [
        "#@title Lista de drogas únicas utilizadas no tratamento com controle \n",
        "\n",
        "drogaControle = list(dados_combinados.query('tratamento == \"com_controle\"')['droga'].unique())\n",
        "print(','.join([f'\"{x}\"' for x in drogaControle]))"
      ],
      "execution_count": null,
      "outputs": [
        {
          "output_type": "stream",
          "text": [
            "\"cacb2b860\"\n"
          ],
          "name": "stdout"
        }
      ]
    },
    {
      "cell_type": "code",
      "metadata": {
        "id": "BDW0ifatCs2B"
      },
      "source": [
        "#@title Limpeza do conjunto de dados\n",
        "#@markdown Então, as drogas utilizadas nos tratamento do tipo \"com_controle\", por se tratarem de placebo, jamais serão capazes de ativar algum mecanismo de ação (MoA).\n",
        "\n",
        "#@markdown Assim, deletamos todas as linhas cuja droga é igual a \"cacb2b860\", ou seja, com controle, uma vez que se tratam de placebos e nunca poderiam ativar mecanismos de ação.\n",
        "#dados_combinados.query('droga ==\"cacb2b860\"')\n",
        "dados_combinados = dados_combinados.set_index(\"droga\").drop(\"cacb2b860\", axis = 0) \n"
      ],
      "execution_count": null,
      "outputs": []
    },
    {
      "cell_type": "code",
      "metadata": {
        "colab": {
          "base_uri": "https://localhost:8080/"
        },
        "id": "vGwt4HGlJ2Jq",
        "outputId": "e5034da4-46da-4582-94a1-5aa1aa7e922a"
      },
      "source": [
        "dados_combinados.shape"
      ],
      "execution_count": null,
      "outputs": [
        {
          "output_type": "execute_result",
          "data": {
            "text/plain": [
              "(21948, 878)"
            ]
          },
          "metadata": {
            "tags": []
          },
          "execution_count": 18
        }
      ]
    },
    {
      "cell_type": "markdown",
      "metadata": {
        "id": "tiMSmb0c5pSR"
      },
      "source": [
        "# Os Exames Laboratoriais "
      ]
    },
    {
      "cell_type": "markdown",
      "metadata": {
        "id": "Ezl6EwhDC9iq"
      },
      "source": [
        "### Testes estatísticos"
      ]
    },
    {
      "cell_type": "code",
      "metadata": {
        "cellView": "form",
        "colab": {
          "base_uri": "https://localhost:8080/",
          "height": 518
        },
        "id": "JTgcwL_S34_S",
        "outputId": "39681bed-eaa6-4919-cac8-349a8789c8aa"
      },
      "source": [
        "#@title Análise da média da expressão gênica x viabilidade celular\n",
        "\n",
        "#Extraindo os dados \n",
        "a = pd.DataFrame({ 'Grupo' : np.repeat('Expressão gênica',772), 'mean': dados.loc[:,'g-0':'g-771'].describe().T['mean']})\n",
        "b = pd.DataFrame({ 'Grupo' : np.repeat('Viabilidade celular',100), 'mean': dados.loc[:,'c-0':'c-99'].describe().T['mean'] })\n",
        "df = a.append(b)\n",
        "\n",
        "# setando o tamanho do gráfico\n",
        "fig = plt.figure(figsize=(20,8)) \n",
        "sns.set() #corrigir erro gráfico colab\n",
        "\n",
        "#Definindo os parametros do terceiro gráfico \n",
        "ax1 = fig.add_subplot(1, 2, 1)  # Adiciona a 1 linha, coluna 1\n",
        "ax1.set_title(\"Boxplot Violino - Média da expressão gênica x viabilidade celular\")\n",
        "ax1.set_xlabel(\"Grupo\")\n",
        "ax1.set_ylabel(\"Média\")\n",
        "sns.violinplot(x='Grupo', y='mean', data=df)\n",
        "\n",
        "#Definindo os parametros do quarto gráfico \n",
        "ax2 = fig.add_subplot(1, 2, 2)  # Adiciona a 1 linha, coluna 2\n",
        "ax2.set_title(\"Histograma - Média da viabilidade celular x expressão gênica\")\n",
        "ax2.set_xlabel(\"Média\")\n",
        "ax2.set_ylabel(\"Frequência\")\n",
        "sns.histplot(data=df,bins=50, x='mean', hue='Grupo', multiple=\"stack\")\n",
        "\n",
        "# Comando que retira informações extras/desnecessárias do gráfico \n",
        "plt.show()"
      ],
      "execution_count": null,
      "outputs": [
        {
          "output_type": "display_data",
          "data": {
            "image/png": "[encoded data removed]",
            "text/plain": [
              "<Figure size 1440x576 with 2 Axes>"
            ]
          },
          "metadata": {
            "tags": []
          }
        }
      ]
    },
    {
      "cell_type": "code",
      "metadata": {
        "cellView": "form",
        "colab": {
          "base_uri": "https://localhost:8080/",
          "height": 518
        },
        "id": "3Ds3GzG7OWF5",
        "outputId": "5927d244-97cf-4f5f-9952-7f06b4adbbd3"
      },
      "source": [
        "#@title Análise da variância da expressão gênica x viabilidade celular\n",
        "#Extraindo os dados \n",
        "a = pd.DataFrame({ 'Grupo' : np.repeat('Expressão gênica',772), 'variância': dados.loc[:,'g-0':'g-771'].var()})\n",
        "b = pd.DataFrame({ 'Grupo' : np.repeat('Viabilidade celular',100), 'variância': dados.loc[:,'c-0':'c-99'].var() })\n",
        "df = a.append(b)\n",
        "\n",
        "# setando o tamanho do gráfico\n",
        "fig = plt.figure(figsize=(20,8)) \n",
        "\n",
        "#Definindo os parametros do terceiro gráfico \n",
        "ax1 = fig.add_subplot(1, 2, 1)  # Adiciona a 1 linha, coluna 1\n",
        "ax1.set_title(\"Boxplot Violino - Variância da expressão gênica x viabilidade celular\")\n",
        "ax1.set_xlabel(\"Grupo\")\n",
        "ax1.set_ylabel(\"Variância\")\n",
        "sns.violinplot(x='Grupo', y='variância', data=df)\n",
        "\n",
        "#Definindo os parametros do quarto gráfico \n",
        "ax2 = fig.add_subplot(1, 2, 2)  # Adiciona a 1 linha, coluna 2\n",
        "ax2.set_title(\"Histograma - Variância da viabilidade celular x expressão gênica\")\n",
        "ax2.set_xlabel(\"Variância\")\n",
        "ax2.set_ylabel(\"Frequência\")\n",
        "sns.histplot(data=df,bins=50, x='variância', hue='Grupo', multiple=\"stack\")\n",
        "\n",
        "# Comando que retira informações extras/desnecessárias do gráfico \n",
        "plt.show()"
      ],
      "execution_count": null,
      "outputs": [
        {
          "output_type": "display_data",
          "data": {
            "image/png": "[encoded data removed]",
            "text/plain": [
              "<Figure size 1440x576 with 2 Axes>"
            ]
          },
          "metadata": {
            "tags": []
          }
        }
      ]
    },
    {
      "cell_type": "code",
      "metadata": {
        "cellView": "form",
        "colab": {
          "base_uri": "https://localhost:8080/",
          "height": 518
        },
        "id": "aqzzHx4yRgda",
        "outputId": "d8676e9d-5663-4761-ee33-f9c0a638e3a9"
      },
      "source": [
        "#@title Análise da média e variância da expressão gênica do conjunto e viabilidade celular\n",
        "\n",
        "#Extraindo os dados \n",
        "e = pd.DataFrame({ 'Grupo' : np.repeat('Expressão gênica e viabilidade celular',872), 'Variância': dados.loc[:,'g-0':'c-99'].var()})\n",
        "g = pd.DataFrame({ 'Grupo' : np.repeat('Expressão gênica e viabilidade celular',872), 'Média': dados.loc[:,'g-0':'c-99'].describe().T['mean']})\n",
        "\n",
        "# setando o tamanho do gráfico\n",
        "fig = plt.figure(figsize=(20,8)) \n",
        "\n",
        "#Definindo os parametros do terceiro gráfico \n",
        "ax1 = fig.add_subplot(1, 2, 1)  # Adiciona a 1 linha, coluna 1\n",
        "ax1.set_title(\"Boxplot Violino - Variância da expressão gênica e viabilidade celular\")\n",
        "ax1.set_xlabel(\"Grupo\")\n",
        "ax1.set_ylabel(\"Variância\")\n",
        "sns.violinplot(x='Grupo', y='Variância', data=e)\n",
        "\n",
        "#Definindo os parametros do quarto gráfico \n",
        "ax2 = fig.add_subplot(1, 2, 2)  # Adiciona a 1 linha, coluna 2\n",
        "ax2.set_title(\"Boxplot Violino - Média da expressão gênica e viabilidade celular\")\n",
        "ax2.set_xlabel(\"Grupo\")\n",
        "ax2.set_ylabel(\"Frequência\")\n",
        "sns.violinplot(x='Grupo', y='Média', data=g)\n",
        "\n",
        "# Comando que retira informações extras/desnecessárias do gráfico \n",
        "plt.show()"
      ],
      "execution_count": null,
      "outputs": [
        {
          "output_type": "display_data",
          "data": {
            "image/png": "[encoded data removed]",
            "text/plain": [
              "<Figure size 1440x576 with 2 Axes>"
            ]
          },
          "metadata": {
            "tags": []
          }
        }
      ]
    },
    {
      "cell_type": "markdown",
      "metadata": {
        "id": "7GIa9Lax8HvV"
      },
      "source": [
        "# O Diagnóstico\n"
      ]
    },
    {
      "cell_type": "markdown",
      "metadata": {
        "id": "LcTm4xQveNW5"
      },
      "source": [
        "### Sabendo-se que cada composto químico é considerado uma classe diferente, tem-se um **problema de classificação**."
      ]
    },
    {
      "cell_type": "markdown",
      "metadata": {
        "id": "3aT0KlXY5zC-"
      },
      "source": [
        "# O Tratamento \n"
      ]
    },
    {
      "cell_type": "markdown",
      "metadata": {
        "id": "RhzQyGvwDTLE"
      },
      "source": [
        "###Aplicação de algoritmos de *Machine Learning*"
      ]
    },
    {
      "cell_type": "markdown",
      "metadata": {
        "id": "Ms4zHvxT8qfK"
      },
      "source": [
        "O algoritmo Gaussian Naive Baes é um dos principais modelos de machine learning utilizado em problemas de classificação multi-classes, ou seja, nos quais o conjunto de dados apresenta múltiplas classes e no qual busca-se a partir dessas classe acertar as variáveis-alvo para construir um modelo de predição, como no caso desse projeto em que busca-se a partir das classes expressão gênica e viabilidade celular descobrir quais efeitos foram ativados.[[Fonte: 4]](https://pubs.acs.org/doi/full/10.1021/acs.jcim.9b00136)\n",
        "\n",
        "\n",
        "Os testes com esse modelo, apresentaram uma acurácia de 43% e se mostrou ineficaz com os parâmetros aplicados, uma vez que se chutassemos que todas as classes foram ativadas, acertariamos 60% das vezes. \n",
        "\n",
        "Observa-se ainda a ocorrência de overfitting, uma vez que as pontiações para o conjunto de treino ficaram abaixo dos valores para o conjunto de testes.\n",
        "\n",
        "Esse resultado demonstrou a necessidade de buscar melhores parâmetros e técnicas de teste do modelo. "
      ]
    },
    {
      "cell_type": "code",
      "metadata": {
        "cellView": "form",
        "colab": {
          "base_uri": "https://localhost:8080/",
          "height": 484
        },
        "id": "ZykzrxZeOo4j",
        "outputId": "f3d8fadd-d802-468d-9463-30d445be8cd6"
      },
      "source": [
        "#@title Resultado do teste do modelo Gaussian Naive Bayes (GaussianNB)\n",
        "\n",
        "\n",
        "from sklearn.datasets import make_classification\n",
        "from sklearn.naive_bayes import GaussianNB\n",
        "from sklearn.calibration import CalibratedClassifierCV\n",
        "from sklearn.model_selection import train_test_split\n",
        "\n",
        "x = dados_combinados.select_dtypes('float64') #seleciona expressão gênica e viabilidade celular (entradas)\n",
        "y = dados_combinados['ativo_moa'] # se ativou ou não (classificação)\n",
        "\n",
        "x_treino, x_teste, y_treino, y_teste = train_test_split(x, y, test_size = 0.2, stratify=y, random_state=42)\n",
        "\n",
        "teste=[]\n",
        "treino=[]\n",
        "\n",
        "for i in range(1,100):\n",
        "  modelo_nBayes = GaussianNB (priors = None, var_smoothing = i) # instancia o modelo de regressão. \n",
        "  modelo_nBayes.fit(x_treino, y_treino) # fit treina o  modelo \n",
        "  teste.append(modelo_nBayes.score(x_teste, y_teste)) # predição do modelo\n",
        "  treino.append(modelo_nBayes.score(x_treino, y_treino))\n",
        "\n",
        "sns.set()\n",
        "plt.figure(figsize=(12,8))\n",
        "sns.lineplot(x=range(1,100), y = teste, label='teste')\n",
        "sns.lineplot(x=range(1,100), y = treino, label='treino')\n",
        "plt.show()"
      ],
      "execution_count": null,
      "outputs": [
        {
          "output_type": "display_data",
          "data": {
            "image/png": "[encoded data removed]",
            "text/plain": [
              "<Figure size 864x576 with 1 Axes>"
            ]
          },
          "metadata": {
            "tags": []
          }
        }
      ]
    },
    {
      "cell_type": "markdown",
      "metadata": {
        "id": "fN5OTE6kTLn2"
      },
      "source": [
        "#### **Problema dos parâmetros de um algoritmo de Machine Learning**\n",
        "\n",
        "Percebe-se pelos testes realizados com o modelo MLPClassifier que não é uma tarfa fácil **descobrir** quais são os **parâmetros ideais** de se aplicar nos algoritmos de machine learning. \n",
        "\n",
        "Dada essa dificuldade, a tendência é optar por métodos de **tentativa-erro ou força bruta, até** encontrar um valor de parametro que produza a maior pontuação ou o  ***score* perfeiro**. \n",
        "\n",
        "Essa, no entanto, não é uma boa prática e frequentimente leva à ocorrência de erros metodológicos no modelo, pois corre-se o risco de ao avaliar e testar diferentes parâmetros **(hiperparâmetros)**, vazar dados do conjunto de testes para o conjunto de validação, tornando o algoritmo incapaz de **generalizar** o seu aprendizado para a **predição/descoberta de novos conhecimentos.**\n",
        "\n",
        "Esse problema é também conhecido como **overfitting.** [ [Fonte: 1 e 2] ](https://scikit-learn.org/stable/modules/cross_validation.html)\n",
        "\n"
      ]
    },
    {
      "cell_type": "markdown",
      "metadata": {
        "id": "fyUzdcsxiTwl"
      },
      "source": [
        "#### **Problema do particionamento do conjunto de dados**\n",
        "\n",
        "Ao **particionar **o conjunto de dados em **subconjunto de teste e validação**, temos o problema de** reduzir **drasticamente o número de **amostras** que podem ser usadas para aprender o modelo, e os resultados podem depender de uma escolha aleatória dos valores de parâmetros para o par de (teste, treino) que produzam o melhor resultado no modelo em estudo. "
      ]
    },
    {
      "cell_type": "markdown",
      "metadata": {
        "id": "Yy1eT8sTSyIk"
      },
      "source": [
        "#### **Validação Cruzada com Scikit-learn**\n",
        "\n",
        "Para evitar o **overfitting** e demais erros metodológicos na construção do modelo e ainda assim mover-se na busca pelos melhores parâmetros **(Tuning)** aplicáveis ao problema de negócio, uma boa prática é a realização da **validação cruzada ** , uma técnica que particiona o conjuento de dads em vários subconjuntos, mutualmente exclusivos. Nessa técnica, utiliza-se parte dos subconjuntos para estimar os melhores valores para os parâmetros e a outra parte dos subconjuntos para validação do aprendizado do modelo. \n",
        "\n",
        "Esta técnica é amplamente empregada em problemas onde o objetivo da modelagem é a descoberta de conhecimento em conjuntos de dados novos e desconhecidos com as mesmas características do modelo, como é o caso do nosso projeto de **Drug Discovery**.[[Fonte 3]](https://pt.wikipedia.org/wiki/Valida%C3%A7%C3%A3o_cruzada)\n",
        "\n",
        "Assim, buscou-se utilizar a **validação cruzada** para comparar os **melhores modelos de Machine Learning** aplicáveis ao problema de **Drug Discovery**. \n",
        "\n",
        "Os modelos a serem testados foram escolhidos com base no artigo **Machine Learning Methods in Drug Discovery** [[Fonte 4]](https://pubs.acs.org/doi/full/10.1021/acs.jcim.9b00136)\n",
        "\n",
        "Existem três tipos principais de **métodos** para realização do **particionamento do conjunto de dados** na validação cruzada, sendo eles: **o método holdout, o k-fold e o leave-one-out.** [[Fonte 3]](https://pt.wikipedia.org/wiki/Valida%C3%A7%C3%A3o_cruzada)\n",
        "\n",
        "No modelo  de Drug Discovery em estudo foi utlilizada a **validação cruzada pelo método k-fold** que consiste em: \n",
        "\n",
        "\n",
        "\n",
        "> Dividir o conjunto total de dados em k subconjuntos mutuamente exclusivos do mesmo tamanho e, a partir daí, um subconjunto é utilizado para teste e os k-1 restantes são utilizados para estimação dos parâmetros, fazendo-se o cálculo da acurácia do modelo. Este processo é realizado k vezes alternando de forma circular o subconjunto de teste. Ao final das k iterações calcula-se a acurácia sobre os erros encontrados, através da equação descrita anteriormente, obtendo assim uma medida mais confiável sobre a capacidade do modelo de representar o processo gerador dos dados. [[Fonte 3]](https://pt.wikipedia.org/wiki/Valida%C3%A7%C3%A3o_cruzada)\n",
        "\n",
        "\n",
        "Para estabelecer se temos um bom valor de acurácia, precisamos de uma base comparativa, quer dizer, preciso dos resultados de um outro modelo para entender se estamos acertando mais ou menos casos.\n",
        "\n",
        "Para isso, o Scikit-Learn, já tem implementado alguns algoritmos que fazer modelos **menos complexos** e que podem ser usados como **base comparativa**. Neste caso, vamos usar o **DummyClassifier.**\n",
        "\n",
        "\n",
        "\n",
        "\n",
        "\n",
        "\n",
        "\n",
        "\n",
        "\n",
        "\n"
      ]
    },
    {
      "cell_type": "code",
      "metadata": {
        "colab": {
          "base_uri": "https://localhost:8080/"
        },
        "id": "vEYrIGnHrJhk",
        "outputId": "5f0c8f0b-57b9-4e96-e46b-c60db6044f9f"
      },
      "source": [
        "#@title Teste simultâneo de seis modelos de Machine Learning \n",
        "\n",
        "#@markdown Adicionamos tambem o teste com o modelo \"DummyClassifier\", para fins de comparação dos resultados. \n",
        "\n",
        "from sklearn.model_selection import cross_val_score\n",
        "\n",
        "from sklearn.datasets import make_classification\n",
        "\n",
        "from sklearn.calibration import CalibratedClassifierCV\n",
        "from sklearn.model_selection import train_test_split\n",
        "\n",
        "from sklearn.neural_network import MLPClassifier\n",
        "from sklearn.svm import SVC\n",
        "from sklearn.linear_model import LinearRegression\n",
        "from sklearn.tree import DecisionTreeClassifier\n",
        "from sklearn.ensemble import RandomForestClassifier\n",
        "from sklearn.naive_bayes import GaussianNB\n",
        "\n",
        "from sklearn.dummy import DummyClassifier #Base comparativa \n",
        "\n",
        "\n",
        "#Particionando o conjunto de dados \n",
        "x = dados_combinados.select_dtypes('float64') #seleciona expressão gênica e viabilidade celular (entradas) \n",
        "y = dados_combinados['ativo_moa'] # se ativou ou não (classificação)\n",
        "\n",
        "#definindo treino \n",
        "x_treino, x_teste, y_treino, y_teste = train_test_split(x, y, test_size = 0.2, stratify=y, random_state=376)\n",
        "\n",
        "# conjunto de modelos a serem testados \n",
        "models = [DummyClassifier(), MLPClassifier(51), LinearRegression(), SVC(), DecisionTreeClassifier(), RandomForestClassifier(), GaussianNB() ]\n",
        "\n",
        "# cria lista de score de cada modelo\n",
        "models_scores= []\n",
        "\n",
        "COLUNAS= ['Modelo', 'Media', 'Desvio']\n",
        "df = pd.DataFrame(columns=COLUNAS)\n",
        "\n",
        "for model in models:\n",
        "    val_scores = cross_val_score(model, x_treino, y_treino, cv=5)\n",
        "    nome_modelo = type(model).__name__ # somente para exibição do nome do modelo no output\n",
        "    print('Modelo: {} | Média: {:.2} | Desvio: {:.2} | Acurácia em cada cv: {}'.format(nome_modelo, np.mean(val_scores), np.std(val_scores),val_scores ))\n",
        "    df = df.append({'Modelo': nome_modelo, 'Media': np.mean(val_scores), 'Desvio':np.std(val_scores)}, ignore_index=True)"
      ],
      "execution_count": null,
      "outputs": [
        {
          "output_type": "stream",
          "text": [
            "/usr/local/lib/python3.7/dist-packages/sklearn/dummy.py:132: FutureWarning: The default value of strategy will change from stratified to prior in 0.24.\n",
            "  \"stratified to prior in 0.24.\", FutureWarning)\n"
          ],
          "name": "stderr"
        },
        {
          "output_type": "stream",
          "text": [
            "Modelo: DummyClassifier | Média: 0.55 | Desvio: 0.0079 | Acurácia em cada cv: [0.55780182 0.53843964 0.55182232 0.53802336 0.55112504]\n",
            "Modelo: MLPClassifier | Média: 0.62 | Desvio: 0.0053 | Acurácia em cada cv: [0.61560364 0.62243736 0.62443052 0.61891199 0.60951296]\n",
            "Modelo: LinearRegression | Média: 0.023 | Desvio: 0.011 | Acurácia em cada cv: [0.03464081 0.01003135 0.03471145 0.02475938 0.01125653]\n",
            "Modelo: SVC | Média: 0.67 | Desvio: 0.0022 | Acurácia em cada cv: [0.66884966 0.66970387 0.67084282 0.66562233 0.66533751]\n",
            "Modelo: DecisionTreeClassifier | Média: 0.58 | Desvio: 0.0095 | Acurácia em cada cv: [0.57374715 0.59197039 0.56776765 0.56764455 0.58387924]\n",
            "Modelo: RandomForestClassifier | Média: 0.66 | Desvio: 0.0019 | Acurácia em cada cv: [0.66230068 0.66714123 0.66571754 0.66505269 0.6622045 ]\n",
            "Modelo: GaussianNB | Média: 0.43 | Desvio: 0.0061 | Acurácia em cada cv: [0.42853075 0.43536446 0.4191344  0.42637425 0.43520365]\n"
          ],
          "name": "stdout"
        }
      ]
    },
    {
      "cell_type": "markdown",
      "metadata": {
        "id": "APA8k6sPDcmL"
      },
      "source": [
        "# A Receita Médica\n"
      ]
    },
    {
      "cell_type": "code",
      "metadata": {
        "cellView": "form",
        "colab": {
          "base_uri": "https://localhost:8080/",
          "height": 626
        },
        "id": "J-e8EIn61x_I",
        "outputId": "ef738a48-0b2b-4da2-9641-f38422c74db5"
      },
      "source": [
        "#@title Comparação de algoritmos\n",
        "\n",
        "#Extraindo dados \n",
        "Ranking = df.sort_values(by ='Media', ascending= False)\n",
        "\n",
        "# setando o tamanho do gráfico\n",
        "fig = plt.figure(figsize=(30,10)) \n",
        "\n",
        "#Definindo os parametros do terceiro gráfico \n",
        "ax1 = fig.add_subplot(1, 2, 1)  # Adiciona a 1 linha, coluna 1\n",
        "ax1.set_title(\"Ranking - acurácia dos modelo de Machine Learning aplicado ao problema de Drug Discovery\")\n",
        "sns.barplot(x=\"Modelo\", y=\"Media\", ax= ax1, data=Ranking, palette=\"Blues_d\")\n",
        "plt.show()"
      ],
      "execution_count": null,
      "outputs": [
        {
          "output_type": "display_data",
          "data": {
            "image/png": "[encoded data removed]",
            "text/plain": [
              "<Figure size 2160x720 with 1 Axes>"
            ]
          },
          "metadata": {
            "tags": []
          }
        }
      ]
    },
    {
      "cell_type": "markdown",
      "metadata": {
        "id": "TImvo5g_5bs8"
      },
      "source": [
        "####A partir da aplicação da técnica de **validação cruzada,** pode-se avaliar o desenpenho dos algoritmos antes da otimização dos parâmetros. Assim, essa técnica funciona como uma **pré-triagem** para selecionar o método que melhor se aplica ao problema. \n",
        "\n",
        "####A partir dos resultados podemos escolher 2 ou 3 métodos que tiveram o melhor desempenho para fazer a **tunning** dos parâmetros e encontrar os **hiperparâmetros.** \n",
        "\n"
      ]
    },
    {
      "cell_type": "markdown",
      "metadata": {
        "id": "IKXpMOTl6OU3"
      },
      "source": [
        "# O Remédio \n"
      ]
    },
    {
      "cell_type": "markdown",
      "metadata": {
        "id": "EkWWBcNkeljt"
      },
      "source": [
        "### Encontrar um modelo de *Machine Learning* capaz de prever se:\n",
        "\n",
        "**Dado um composto e uma assinatura celular algum MoA será ativado**.\n"
      ]
    },
    {
      "cell_type": "markdown",
      "metadata": {
        "id": "y11vMsPrkJD6"
      },
      "source": [
        "Pelo teste simultâneo, temos que o algoritmo que apresentou a melhor acurácia foi o SVC.\n",
        "\n"
      ]
    },
    {
      "cell_type": "code",
      "metadata": {
        "id": "jd3COKDCjcL3"
      },
      "source": [
        "from sklearn.svm import SVC\n",
        "\n",
        "# Instancia o modelo SVC escolhido, por apresentar a maior acurácia \n",
        "SVC_to_boost = SVC (random_state = 376)"
      ],
      "execution_count": null,
      "outputs": []
    },
    {
      "cell_type": "markdown",
      "metadata": {
        "id": "2aw-fB1Y5oLg"
      },
      "source": [
        "### Ajustando a dose"
      ]
    },
    {
      "cell_type": "code",
      "metadata": {
        "colab": {
          "base_uri": "https://localhost:8080/"
        },
        "id": "bdguL9N2ltp5",
        "outputId": "90431a3e-45c3-4be8-a27b-6ed9db69d413"
      },
      "source": [
        "# Obtem os parâmetros disponíveis do modelo SVC, para ajuste\n",
        "SVC_to_boost.get_params()"
      ],
      "execution_count": null,
      "outputs": [
        {
          "output_type": "execute_result",
          "data": {
            "text/plain": [
              "{'C': 1.0,\n",
              " 'break_ties': False,\n",
              " 'cache_size': 200,\n",
              " 'class_weight': None,\n",
              " 'coef0': 0.0,\n",
              " 'decision_function_shape': 'ovr',\n",
              " 'degree': 3,\n",
              " 'gamma': 'scale',\n",
              " 'kernel': 'rbf',\n",
              " 'max_iter': -1,\n",
              " 'probability': False,\n",
              " 'random_state': 376,\n",
              " 'shrinking': True,\n",
              " 'tol': 0.001,\n",
              " 'verbose': False}"
            ]
          },
          "metadata": {
            "tags": []
          },
          "execution_count": 23
        }
      ]
    },
    {
      "cell_type": "code",
      "metadata": {
        "id": "AXmYFTC1mWpI"
      },
      "source": [
        "from sklearn.model_selection import GridSearchCV\n",
        "  \n",
        "# defining parameter range\n",
        "param_SVC_grid = {'C': [10, 100, 1000], \n",
        "              'gamma': [0.01, 0.001, 0.0001],\n",
        "              'kernel': ['rbf']} \n",
        "\n",
        "boosting_SVC_grid = GridSearchCV(estimator = SVC_to_boost, param_grid = param_SVC_grid , refit = True, verbose = 3, cv = 3)\n"
      ],
      "execution_count": null,
      "outputs": []
    },
    {
      "cell_type": "code",
      "metadata": {
        "colab": {
          "base_uri": "https://localhost:8080/"
        },
        "id": "h4hzJ9k9mC2q",
        "outputId": "f9e09ce3-ddce-427d-9f93-c4b283c82f4f"
      },
      "source": [
        "#Particionando o conjunto de dados \n",
        "x = dados_combinados.select_dtypes('float64') #seleciona expressão gênica e viabilidade celular (entradas) \n",
        "y = dados_combinados['ativo_moa'] # se ativou ou não (classificação)\n",
        "\n",
        "#definindo treino \n",
        "x_treino, x_teste, y_treino, y_teste = train_test_split(x, y, test_size = 0.2, stratify=y, random_state=376)\n",
        "\n",
        "boosting_SVC_grid.fit(x_treino, y_treino)"
      ],
      "execution_count": null,
      "outputs": [
        {
          "output_type": "stream",
          "text": [
            "Fitting 3 folds for each of 9 candidates, totalling 27 fits\n",
            "[CV] C=10, gamma=0.01, kernel=rbf ....................................\n"
          ],
          "name": "stdout"
        },
        {
          "output_type": "stream",
          "text": [
            "[Parallel(n_jobs=1)]: Using backend SequentialBackend with 1 concurrent workers.\n"
          ],
          "name": "stderr"
        },
        {
          "output_type": "stream",
          "text": [
            "[CV] ........ C=10, gamma=0.01, kernel=rbf, score=0.682, total=16.1min\n",
            "[CV] C=10, gamma=0.01, kernel=rbf ....................................\n"
          ],
          "name": "stdout"
        },
        {
          "output_type": "stream",
          "text": [
            "[Parallel(n_jobs=1)]: Done   1 out of   1 | elapsed: 16.1min remaining:    0.0s\n"
          ],
          "name": "stderr"
        },
        {
          "output_type": "stream",
          "text": [
            "[CV] ........ C=10, gamma=0.01, kernel=rbf, score=0.678, total=16.3min\n",
            "[CV] C=10, gamma=0.01, kernel=rbf ....................................\n"
          ],
          "name": "stdout"
        },
        {
          "output_type": "stream",
          "text": [
            "[Parallel(n_jobs=1)]: Done   2 out of   2 | elapsed: 32.4min remaining:    0.0s\n"
          ],
          "name": "stderr"
        },
        {
          "output_type": "stream",
          "text": [
            "[CV] ........ C=10, gamma=0.01, kernel=rbf, score=0.680, total=15.9min\n",
            "[CV] C=10, gamma=0.001, kernel=rbf ...................................\n",
            "[CV] ....... C=10, gamma=0.001, kernel=rbf, score=0.988, total= 2.2min\n",
            "[CV] C=10, gamma=0.001, kernel=rbf ...................................\n",
            "[CV] ....... C=10, gamma=0.001, kernel=rbf, score=0.984, total= 2.1min\n",
            "[CV] C=10, gamma=0.001, kernel=rbf ...................................\n",
            "[CV] ....... C=10, gamma=0.001, kernel=rbf, score=0.985, total= 2.1min\n",
            "[CV] C=10, gamma=0.0001, kernel=rbf ..................................\n",
            "[CV] ...... C=10, gamma=0.0001, kernel=rbf, score=0.999, total= 1.1min\n",
            "[CV] C=10, gamma=0.0001, kernel=rbf ..................................\n",
            "[CV] ...... C=10, gamma=0.0001, kernel=rbf, score=0.999, total= 1.1min\n",
            "[CV] C=10, gamma=0.0001, kernel=rbf ..................................\n",
            "[CV] ...... C=10, gamma=0.0001, kernel=rbf, score=0.999, total= 1.1min\n",
            "[CV] C=100, gamma=0.01, kernel=rbf ...................................\n",
            "[CV] ....... C=100, gamma=0.01, kernel=rbf, score=0.682, total=15.9min\n",
            "[CV] C=100, gamma=0.01, kernel=rbf ...................................\n",
            "[CV] ....... C=100, gamma=0.01, kernel=rbf, score=0.678, total=16.3min\n",
            "[CV] C=100, gamma=0.01, kernel=rbf ...................................\n",
            "[CV] ....... C=100, gamma=0.01, kernel=rbf, score=0.680, total=15.9min\n",
            "[CV] C=100, gamma=0.001, kernel=rbf ..................................\n",
            "[CV] ...... C=100, gamma=0.001, kernel=rbf, score=0.988, total= 2.2min\n",
            "[CV] C=100, gamma=0.001, kernel=rbf ..................................\n",
            "[CV] ...... C=100, gamma=0.001, kernel=rbf, score=0.984, total= 2.1min\n",
            "[CV] C=100, gamma=0.001, kernel=rbf ..................................\n",
            "[CV] ...... C=100, gamma=0.001, kernel=rbf, score=0.985, total= 2.1min\n",
            "[CV] C=100, gamma=0.0001, kernel=rbf .................................\n",
            "[CV] ..... C=100, gamma=0.0001, kernel=rbf, score=0.999, total= 1.1min\n",
            "[CV] C=100, gamma=0.0001, kernel=rbf .................................\n",
            "[CV] ..... C=100, gamma=0.0001, kernel=rbf, score=0.999, total= 1.1min\n",
            "[CV] C=100, gamma=0.0001, kernel=rbf .................................\n",
            "[CV] ..... C=100, gamma=0.0001, kernel=rbf, score=0.999, total= 1.1min\n",
            "[CV] C=1000, gamma=0.01, kernel=rbf ..................................\n",
            "[CV] ...... C=1000, gamma=0.01, kernel=rbf, score=0.682, total=16.0min\n",
            "[CV] C=1000, gamma=0.01, kernel=rbf ..................................\n",
            "[CV] ...... C=1000, gamma=0.01, kernel=rbf, score=0.678, total=16.3min\n",
            "[CV] C=1000, gamma=0.01, kernel=rbf ..................................\n",
            "[CV] ...... C=1000, gamma=0.01, kernel=rbf, score=0.680, total=15.8min\n",
            "[CV] C=1000, gamma=0.001, kernel=rbf .................................\n",
            "[CV] ..... C=1000, gamma=0.001, kernel=rbf, score=0.988, total= 2.2min\n",
            "[CV] C=1000, gamma=0.001, kernel=rbf .................................\n",
            "[CV] ..... C=1000, gamma=0.001, kernel=rbf, score=0.984, total= 2.1min\n",
            "[CV] C=1000, gamma=0.001, kernel=rbf .................................\n",
            "[CV] ..... C=1000, gamma=0.001, kernel=rbf, score=0.985, total= 2.1min\n",
            "[CV] C=1000, gamma=0.0001, kernel=rbf ................................\n",
            "[CV] .... C=1000, gamma=0.0001, kernel=rbf, score=0.999, total= 1.1min\n",
            "[CV] C=1000, gamma=0.0001, kernel=rbf ................................\n",
            "[CV] .... C=1000, gamma=0.0001, kernel=rbf, score=0.999, total= 1.1min\n",
            "[CV] C=1000, gamma=0.0001, kernel=rbf ................................\n",
            "[CV] .... C=1000, gamma=0.0001, kernel=rbf, score=0.999, total= 1.1min\n"
          ],
          "name": "stdout"
        },
        {
          "output_type": "stream",
          "text": [
            "[Parallel(n_jobs=1)]: Done  27 out of  27 | elapsed: 173.8min finished\n"
          ],
          "name": "stderr"
        },
        {
          "output_type": "execute_result",
          "data": {
            "text/plain": [
              "GridSearchCV(cv=3, estimator=SVC(random_state=376),\n",
              "             param_grid={'C': [10, 100, 1000], 'gamma': [0.01, 0.001, 0.0001],\n",
              "                         'kernel': ['rbf']},\n",
              "             verbose=3)"
            ]
          },
          "metadata": {
            "tags": []
          },
          "execution_count": 25
        }
      ]
    },
    {
      "cell_type": "code",
      "metadata": {
        "id": "gp_XUFwQ5BAA",
        "outputId": "9a6e1f94-31ef-4917-aa33-2a261efd3395"
      },
      "source": [
        "boosting_SVC_grid.best_params_\n"
      ],
      "execution_count": null,
      "outputs": [
        {
          "output_type": "execute_result",
          "data": {
            "text/plain": [
              "{'C': 10, 'gamma': 0.0001, 'kernel': 'rbf'}"
            ]
          },
          "metadata": {
            "tags": []
          },
          "execution_count": 27
        }
      ]
    },
    {
      "cell_type": "markdown",
      "metadata": {
        "id": "zTDT5u3D51hX"
      },
      "source": [
        "### Verificando os resultados"
      ]
    },
    {
      "cell_type": "code",
      "metadata": {
        "id": "EhxoQgsS5BAA",
        "outputId": "b16333a0-9292-463b-9452-0eaa908f79d7"
      },
      "source": [
        "# Classification Report and ROC for this dataset\n",
        "from sklearn.metrics import classification_report, confusion_matrix \n",
        "grid_predictions = boosting_SVC_grid.predict(x_teste)\n",
        "  \n",
        "# print classification report\n",
        "print(metrics.classification_report(y_teste, grid_predictions))"
      ],
      "execution_count": null,
      "outputs": [
        {
          "output_type": "stream",
          "text": [
            "              precision    recall  f1-score   support\n",
            "\n",
            "       False       1.00      1.00      1.00      1500\n",
            "        True       1.00      1.00      1.00      2890\n",
            "\n",
            "    accuracy                           1.00      4390\n",
            "   macro avg       1.00      1.00      1.00      4390\n",
            "weighted avg       1.00      1.00      1.00      4390\n",
            "\n"
          ],
          "name": "stdout"
        }
      ]
    },
    {
      "cell_type": "code",
      "metadata": {
        "id": "N_iSWYvw5BAB",
        "outputId": "44c3712e-f2c7-40b6-f697-cd4d69c21bbd"
      },
      "source": [
        "    modelo_svc = SVC(C= 10, gamma =0.0001, kernel = 'rbf')\n",
        "    modelo_svc.fit(x_treino, y_treino)\n",
        "    print (\"score do modelo de teste:\",  modelo_svc.score(x_teste, y_teste), \"\\n\", \"score do modelo de treino:\", modelo_svc.score(x_treino, y_treino))"
      ],
      "execution_count": null,
      "outputs": [
        {
          "output_type": "stream",
          "text": [
            "score do modelo de teste: 0.9984054669703872 \n",
            " score do modelo de treino: 1.0\n"
          ],
          "name": "stdout"
        }
      ]
    },
    {
      "cell_type": "code",
      "metadata": {
        "id": "ao59ekaE5BAB"
      },
      "source": [
        "from sklearn.preprocessing import label_binarize\n",
        "from sklearn import metrics\n",
        "import scikitplot as skplt\n",
        "from matplotlib.colors import ListedColormap\n",
        "cmap = ListedColormap(sns.color_palette(\"Greens_r\"))\n"
      ],
      "execution_count": null,
      "outputs": []
    },
    {
      "cell_type": "code",
      "metadata": {
        "id": "co3_g57d5BAB",
        "outputId": "b35fd0ea-139f-4aa8-d37d-361ae4d06593"
      },
      "source": [
        " pip install scikit-plot"
      ],
      "execution_count": null,
      "outputs": [
        {
          "output_type": "stream",
          "text": [
            "Requirement already satisfied: scikit-plot in c:\\programdata\\anaconda3\\lib\\site-packages (0.3.7)\n",
            "Requirement already satisfied: matplotlib>=1.4.0 in c:\\programdata\\anaconda3\\lib\\site-packages (from scikit-plot) (3.3.2)\n",
            "Requirement already satisfied: joblib>=0.10 in c:\\programdata\\anaconda3\\lib\\site-packages (from scikit-plot) (0.17.0)\n",
            "Requirement already satisfied: scikit-learn>=0.18 in c:\\programdata\\anaconda3\\lib\\site-packages (from scikit-plot) (0.23.2)\n",
            "Requirement already satisfied: scipy>=0.9 in c:\\programdata\\anaconda3\\lib\\site-packages (from scikit-plot) (1.5.2)\n",
            "Requirement already satisfied: python-dateutil>=2.1 in c:\\programdata\\anaconda3\\lib\\site-packages (from matplotlib>=1.4.0->scikit-plot) (2.8.1)\n",
            "Requirement already satisfied: certifi>=2020.06.20 in c:\\programdata\\anaconda3\\lib\\site-packages (from matplotlib>=1.4.0->scikit-plot) (2020.6.20)\n",
            "Requirement already satisfied: numpy>=1.15 in c:\\programdata\\anaconda3\\lib\\site-packages (from matplotlib>=1.4.0->scikit-plot) (1.19.2)\n",
            "Requirement already satisfied: pyparsing!=2.0.4,!=2.1.2,!=2.1.6,>=2.0.3 in c:\\programdata\\anaconda3\\lib\\site-packages (from matplotlib>=1.4.0->scikit-plot) (2.4.7)\n",
            "Requirement already satisfied: pillow>=6.2.0 in c:\\programdata\\anaconda3\\lib\\site-packages (from matplotlib>=1.4.0->scikit-plot) (8.0.1)\n",
            "Requirement already satisfied: kiwisolver>=1.0.1 in c:\\programdata\\anaconda3\\lib\\site-packages (from matplotlib>=1.4.0->scikit-plot) (1.3.0)\n",
            "Requirement already satisfied: cycler>=0.10 in c:\\programdata\\anaconda3\\lib\\site-packages (from matplotlib>=1.4.0->scikit-plot) (0.10.0)\n",
            "Requirement already satisfied: threadpoolctl>=2.0.0 in c:\\programdata\\anaconda3\\lib\\site-packages (from scikit-learn>=0.18->scikit-plot) (2.1.0)\n",
            "Requirement already satisfied: six>=1.5 in c:\\programdata\\anaconda3\\lib\\site-packages (from python-dateutil>=2.1->matplotlib>=1.4.0->scikit-plot) (1.15.0)\n",
            "Note: you may need to restart the kernel to use updated packages.\n"
          ],
          "name": "stdout"
        }
      ]
    },
    {
      "cell_type": "code",
      "metadata": {
        "id": "7xxmtf7c5BAC"
      },
      "source": [
        "from sklearn import metrics\n",
        "import scikitplot as skplt\n"
      ],
      "execution_count": null,
      "outputs": []
    },
    {
      "cell_type": "code",
      "metadata": {
        "id": "Gg6S0wRs5BAC"
      },
      "source": [
        "Final_pred_teste = modelo_svc.predict(x_teste)"
      ],
      "execution_count": null,
      "outputs": []
    },
    {
      "cell_type": "code",
      "metadata": {
        "id": "xf6-GjJj5BAD",
        "outputId": "e9a4454f-8531-43fc-e1e2-4ceea7c423c8"
      },
      "source": [
        "print(metrics.classification_report(y_teste, Final_pred_teste))"
      ],
      "execution_count": null,
      "outputs": [
        {
          "output_type": "stream",
          "text": [
            "              precision    recall  f1-score   support\n",
            "\n",
            "       False       1.00      1.00      1.00      1500\n",
            "        True       1.00      1.00      1.00      2890\n",
            "\n",
            "    accuracy                           1.00      4390\n",
            "   macro avg       1.00      1.00      1.00      4390\n",
            "weighted avg       1.00      1.00      1.00      4390\n",
            "\n"
          ],
          "name": "stdout"
        }
      ]
    },
    {
      "cell_type": "code",
      "metadata": {
        "id": "8V-Q25Ni5BAD",
        "outputId": "be1e19a0-c9c0-4490-d4b3-b84a1938d4d1"
      },
      "source": [
        "skplt.metrics.plot_confusion_matrix(y_teste, Final_pred_teste)\n",
        "plt.show()"
      ],
      "execution_count": null,
      "outputs": [
        {
          "output_type": "display_data",
          "data": {
            "image/png": "[encoded data removed]",
            "text/plain": [
              "<Figure size 432x288 with 2 Axes>"
            ]
          },
          "metadata": {
            "tags": []
          }
        }
      ]
    },
    {
      "cell_type": "code",
      "metadata": {
        "id": "W-eGSzi15BAE"
      },
      "source": [
        "Final_pred_treino = modelo_svc.predict(x_treino)"
      ],
      "execution_count": null,
      "outputs": []
    },
    {
      "cell_type": "code",
      "metadata": {
        "id": "2fmYwmtA5BAE",
        "outputId": "18006f78-db19-4b87-ad5b-85b34f0db066"
      },
      "source": [
        "print(metrics.classification_report(y_treino, Final_pred_treino))"
      ],
      "execution_count": null,
      "outputs": [
        {
          "output_type": "stream",
          "text": [
            "              precision    recall  f1-score   support\n",
            "\n",
            "       False       1.00      1.00      1.00      6001\n",
            "        True       1.00      1.00      1.00     11557\n",
            "\n",
            "    accuracy                           1.00     17558\n",
            "   macro avg       1.00      1.00      1.00     17558\n",
            "weighted avg       1.00      1.00      1.00     17558\n",
            "\n"
          ],
          "name": "stdout"
        }
      ]
    },
    {
      "cell_type": "code",
      "metadata": {
        "id": "8EBTjV1i5BAE",
        "outputId": "3d859ec8-14de-4e93-a290-4a7af00a3818"
      },
      "source": [
        "skplt.metrics.plot_confusion_matrix(y_treino, Final_pred_treino)\n",
        "plt.show()"
      ],
      "execution_count": null,
      "outputs": [
        {
          "output_type": "display_data",
          "data": {
            "image/png": "[encoded data removed]",
            "text/plain": [
              "<Figure size 432x288 with 2 Axes>"
            ]
          },
          "metadata": {
            "tags": []
          }
        }
      ]
    },
    {
      "cell_type": "markdown",
      "metadata": {
        "id": "g7PxqgX-5kqe"
      },
      "source": [
        "# O *Check-up* Médico\n"
      ]
    },
    {
      "cell_type": "markdown",
      "metadata": {
        "id": "UrCvEiFPD9wl"
      },
      "source": [
        "\n",
        "### Considerações Finais\n",
        "\n",
        "#### Durante a execução desse projeto, observa-se que é possível traçar um **algorítimo** para o desenvolvimento de projeto de **Machine Learning**. \n",
        "\n",
        "#### A primera coisa a se fazer é **conhecer o conjunto de dados:**\n",
        "\n",
        "1.   Qual o tamanho desse banco de dados?\n",
        "2.   Quais são os seus atributos?\n",
        "3.   Quais são os tipos desses atributos?\n",
        "4.   Qual a relação entre as variáveis?\n",
        "5.   Os dados estã obalanceados?\n",
        "5.   É necessário criar variáveis ou mudar a estrutura da base de dados para faciliar a análise?\n",
        "\n",
        "####Respondidas essas perguntas, temos que fazer **testes estatísticos** buscando por erros, incoerências e para entender como esses dados estã odistrinuídos.\n",
        "\n",
        "#### A partir das características identificadas, passamos para o levantamento do problema de negócio:\n",
        "\n",
        "2. É um problema de regressão?\n",
        "3. É um problema de classificação?\n",
        "4. É um problema de clusterização?\n",
        "5. Ou não é um problema de machine learning?\n",
        "\n",
        "#### Se for um problema de machine learning, devemos** levantar os principais algoritmos** aplicados para esse tipo de problema. Testá-los e Otimizá-los.\n",
        "\n",
        "\n",
        "\n"
      ]
    },
    {
      "cell_type": "markdown",
      "metadata": {
        "id": "UzISEiA7ENPC"
      },
      "source": [
        "### Limitações do seu projeto"
      ]
    },
    {
      "cell_type": "markdown",
      "metadata": {
        "id": "JCVEW072EDUZ"
      },
      "source": [
        "O projeto não realizou a otimização dos parâmtros de teste, nem especificou o intervalo de confiança para sua utilização. "
      ]
    },
    {
      "cell_type": "markdown",
      "metadata": {
        "id": "DGKpTHXDEQ07"
      },
      "source": [
        "### Ideias para projetos futuros\n",
        "\n",
        "O próximo passo seria encontrar os hiperparâmetros utilizando a classe GridSearchCV() do sklearn, que consegue indicar os melhores valores de parâmetros para um determinado modelo a partir do conjunto de dados.\n",
        "\n",
        "Outra etapa necessária seria estudar modelos mais aplicaveis a problemas cujo conjunto de dados apresenta alta variância, conforme [demonstrado](https://colab.research.google.com/drive/13GAOWcEivzu6w66gbxfpzSUHBXQjjfUb#scrollTo=aqzzHx4yRgda&line=1&uniqifier=1)\n",
        "\n",
        "\n"
      ]
    },
    {
      "cell_type": "markdown",
      "metadata": {
        "id": "7qnYvwnTPgB2"
      },
      "source": [
        "#O Catálogo de Medicamentos"
      ]
    },
    {
      "cell_type": "markdown",
      "metadata": {
        "id": "HF5RT-9oPmPb"
      },
      "source": [
        "1. [Validação Cruzada com Scikit-learn](https://scikit-learn.org/stable/modules/generated/sklearn.model_selection.cross_val_score.html)\n",
        "2. [Validação cruzada: avaliando o desempenho do estimador com Scikit-learn](https://scikit-learn.org/stable/modules/cross_validation.html)\n",
        "3. [Validação cruzada](https://pt.wikipedia.org/wiki/Valida%C3%A7%C3%A3o_cruzada)\n",
        "4. [Machine Learning in Drug Discovery](https://pubs.acs.org/doi/full/10.1021/acs.jcim.9b00136)\n",
        "5. [sklearn.naive_bayes.GaussianNB ](https://scikit-learn.org/stable/modules/generated/sklearn.naive_bayes.GaussianNB.html?highlight=naive#sklearn.naive_bayes.GaussianNB/)\n",
        "6. [A Gentle Introduction to Bayes Theorem for Machine Learning](https://machinelearningmastery.com/bayes-theorem-for-machine-learning/)\n",
        "7. [Validação Cruzada Aninhada com Scikit-learn](https://dataml.com.br/validacao-cruzada-aninhada-com-scikit-learn/)"
      ]
    },
    {
      "cell_type": "markdown",
      "metadata": {
        "id": "gu47KAZefplr"
      },
      "source": [
        " ***- Mergulhe fundo, é apenas o primeiro passo -***"
      ]
    }
  ]
}